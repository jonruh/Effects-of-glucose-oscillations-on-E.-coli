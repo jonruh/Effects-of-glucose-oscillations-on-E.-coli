{
 "cells": [
  {
   "cell_type": "markdown",
   "metadata": {},
   "source": [
    "# Expression Quality Control (Part 1)\n",
    "This is a template notebook for performing preliminary quality control on your organism's expression data."
   ]
  },
  {
   "cell_type": "markdown",
   "metadata": {},
   "source": [
    "## Setup"
   ]
  },
  {
   "cell_type": "code",
   "execution_count": 1,
   "metadata": {},
   "outputs": [],
   "source": [
    "import matplotlib.pyplot as plt\n",
    "import numpy as np\n",
    "import pandas as pd\n",
    "import seaborn as sns\n",
    "\n",
    "from os import path"
   ]
  },
  {
   "cell_type": "code",
   "execution_count": 2,
   "metadata": {},
   "outputs": [],
   "source": [
    "sns.set_style('ticks')"
   ]
  },
  {
   "cell_type": "markdown",
   "metadata": {},
   "source": [
    "### Inputs"
   ]
  },
  {
   "cell_type": "markdown",
   "metadata": {},
   "source": [
    "Enter path of log-TPM, MultiQC, and metadata files here"
   ]
  },
  {
   "cell_type": "code",
   "execution_count": 3,
   "metadata": {},
   "outputs": [],
   "source": [
    "logTPM_file = path.join('..','data','raw_data','log_tpm.csv') # Enter log-TPM filename here\n",
    "multiqc_file = path.join('..','data','raw_data','multiqc_stats.tsv') # Enter MultiQC stats filename here\n",
    "metadata_file = path.join('..','data','raw_data','DDB_SD_1_meta.tsv') # Enter metadata filename here"
   ]
  },
  {
   "cell_type": "markdown",
   "metadata": {},
   "source": [
    "### Load expression data"
   ]
  },
  {
   "cell_type": "code",
   "execution_count": 4,
   "metadata": {},
   "outputs": [
    {
     "name": "stdout",
     "output_type": "stream",
     "text": [
      "Number of genes: 4355\n",
      "Number of samples: 50\n"
     ]
    },
    {
     "data": {
      "text/html": [
       "<div>\n",
       "<style scoped>\n",
       "    .dataframe tbody tr th:only-of-type {\n",
       "        vertical-align: middle;\n",
       "    }\n",
       "\n",
       "    .dataframe tbody tr th {\n",
       "        vertical-align: top;\n",
       "    }\n",
       "\n",
       "    .dataframe thead th {\n",
       "        text-align: right;\n",
       "    }\n",
       "</style>\n",
       "<table border=\"1\" class=\"dataframe\">\n",
       "  <thead>\n",
       "    <tr style=\"text-align: right;\">\n",
       "      <th></th>\n",
       "      <th>IC1</th>\n",
       "      <th>IC2</th>\n",
       "      <th>PD_117_R10_S05#</th>\n",
       "      <th>PD_117_R11_S05#</th>\n",
       "      <th>PD_117_R12_S05#</th>\n",
       "      <th>PD_117_R13_S05#</th>\n",
       "      <th>PD_117_R14_S05#</th>\n",
       "      <th>PD_117_R15_S05#</th>\n",
       "      <th>PD_117_R16_S05#</th>\n",
       "      <th>PD_117_R5_S05#1</th>\n",
       "      <th>...</th>\n",
       "      <th>PD_123_R12_S05#</th>\n",
       "      <th>PD_123_R13_S05#</th>\n",
       "      <th>PD_123_R14_S05#</th>\n",
       "      <th>PD_123_R15_S05#</th>\n",
       "      <th>PD_123_R16_S05#</th>\n",
       "      <th>PD_123_R5_S05#1</th>\n",
       "      <th>PD_123_R6_S05#1</th>\n",
       "      <th>PD_123_R7_S05#1</th>\n",
       "      <th>PD_123_R8_S05#1</th>\n",
       "      <th>PD_123_R9_S05#1</th>\n",
       "    </tr>\n",
       "    <tr>\n",
       "      <th>Geneid</th>\n",
       "      <th></th>\n",
       "      <th></th>\n",
       "      <th></th>\n",
       "      <th></th>\n",
       "      <th></th>\n",
       "      <th></th>\n",
       "      <th></th>\n",
       "      <th></th>\n",
       "      <th></th>\n",
       "      <th></th>\n",
       "      <th></th>\n",
       "      <th></th>\n",
       "      <th></th>\n",
       "      <th></th>\n",
       "      <th></th>\n",
       "      <th></th>\n",
       "      <th></th>\n",
       "      <th></th>\n",
       "      <th></th>\n",
       "      <th></th>\n",
       "      <th></th>\n",
       "    </tr>\n",
       "  </thead>\n",
       "  <tbody>\n",
       "    <tr>\n",
       "      <th>b0001</th>\n",
       "      <td>11.002527</td>\n",
       "      <td>12.732594</td>\n",
       "      <td>11.081665</td>\n",
       "      <td>10.268826</td>\n",
       "      <td>10.233329</td>\n",
       "      <td>9.989378</td>\n",
       "      <td>10.281131</td>\n",
       "      <td>9.962700</td>\n",
       "      <td>9.636620</td>\n",
       "      <td>11.052673</td>\n",
       "      <td>...</td>\n",
       "      <td>11.267593</td>\n",
       "      <td>10.085499</td>\n",
       "      <td>9.882722</td>\n",
       "      <td>8.941416</td>\n",
       "      <td>11.326079</td>\n",
       "      <td>11.546252</td>\n",
       "      <td>11.009942</td>\n",
       "      <td>10.547354</td>\n",
       "      <td>10.252775</td>\n",
       "      <td>11.109756</td>\n",
       "    </tr>\n",
       "    <tr>\n",
       "      <th>b0002</th>\n",
       "      <td>11.220569</td>\n",
       "      <td>10.738328</td>\n",
       "      <td>7.645440</td>\n",
       "      <td>9.522497</td>\n",
       "      <td>9.117753</td>\n",
       "      <td>9.139083</td>\n",
       "      <td>10.197153</td>\n",
       "      <td>9.574051</td>\n",
       "      <td>9.451363</td>\n",
       "      <td>7.754347</td>\n",
       "      <td>...</td>\n",
       "      <td>8.182046</td>\n",
       "      <td>7.732953</td>\n",
       "      <td>8.183372</td>\n",
       "      <td>7.790060</td>\n",
       "      <td>8.484266</td>\n",
       "      <td>7.723273</td>\n",
       "      <td>8.288264</td>\n",
       "      <td>7.555798</td>\n",
       "      <td>7.769895</td>\n",
       "      <td>8.184395</td>\n",
       "    </tr>\n",
       "    <tr>\n",
       "      <th>b0003</th>\n",
       "      <td>10.435381</td>\n",
       "      <td>10.161018</td>\n",
       "      <td>7.640769</td>\n",
       "      <td>9.083923</td>\n",
       "      <td>8.782278</td>\n",
       "      <td>8.742474</td>\n",
       "      <td>9.637226</td>\n",
       "      <td>9.655356</td>\n",
       "      <td>9.667506</td>\n",
       "      <td>7.602189</td>\n",
       "      <td>...</td>\n",
       "      <td>7.838649</td>\n",
       "      <td>7.802649</td>\n",
       "      <td>8.140787</td>\n",
       "      <td>7.513838</td>\n",
       "      <td>7.628948</td>\n",
       "      <td>7.644197</td>\n",
       "      <td>7.717265</td>\n",
       "      <td>7.675395</td>\n",
       "      <td>7.815305</td>\n",
       "      <td>7.931424</td>\n",
       "    </tr>\n",
       "    <tr>\n",
       "      <th>b0004</th>\n",
       "      <td>9.771227</td>\n",
       "      <td>9.804738</td>\n",
       "      <td>7.383264</td>\n",
       "      <td>8.404835</td>\n",
       "      <td>8.363498</td>\n",
       "      <td>8.215478</td>\n",
       "      <td>9.037703</td>\n",
       "      <td>9.027710</td>\n",
       "      <td>9.083592</td>\n",
       "      <td>7.274509</td>\n",
       "      <td>...</td>\n",
       "      <td>7.650119</td>\n",
       "      <td>7.348478</td>\n",
       "      <td>7.944324</td>\n",
       "      <td>6.538991</td>\n",
       "      <td>7.537017</td>\n",
       "      <td>7.255310</td>\n",
       "      <td>7.627116</td>\n",
       "      <td>7.229710</td>\n",
       "      <td>7.430127</td>\n",
       "      <td>7.605211</td>\n",
       "    </tr>\n",
       "    <tr>\n",
       "      <th>b0005</th>\n",
       "      <td>5.653987</td>\n",
       "      <td>5.586375</td>\n",
       "      <td>4.077732</td>\n",
       "      <td>5.696586</td>\n",
       "      <td>5.560236</td>\n",
       "      <td>5.819425</td>\n",
       "      <td>5.957660</td>\n",
       "      <td>6.105838</td>\n",
       "      <td>5.817777</td>\n",
       "      <td>3.851237</td>\n",
       "      <td>...</td>\n",
       "      <td>5.553585</td>\n",
       "      <td>4.239501</td>\n",
       "      <td>4.500223</td>\n",
       "      <td>4.676019</td>\n",
       "      <td>4.855211</td>\n",
       "      <td>3.685820</td>\n",
       "      <td>3.750354</td>\n",
       "      <td>4.067940</td>\n",
       "      <td>3.901692</td>\n",
       "      <td>4.822042</td>\n",
       "    </tr>\n",
       "  </tbody>\n",
       "</table>\n",
       "<p>5 rows × 50 columns</p>\n",
       "</div>"
      ],
      "text/plain": [
       "              IC1        IC2  PD_117_R10_S05#  PD_117_R11_S05#  \\\n",
       "Geneid                                                           \n",
       "b0001   11.002527  12.732594        11.081665        10.268826   \n",
       "b0002   11.220569  10.738328         7.645440         9.522497   \n",
       "b0003   10.435381  10.161018         7.640769         9.083923   \n",
       "b0004    9.771227   9.804738         7.383264         8.404835   \n",
       "b0005    5.653987   5.586375         4.077732         5.696586   \n",
       "\n",
       "        PD_117_R12_S05#  PD_117_R13_S05#  PD_117_R14_S05#  PD_117_R15_S05#  \\\n",
       "Geneid                                                                       \n",
       "b0001         10.233329         9.989378        10.281131         9.962700   \n",
       "b0002          9.117753         9.139083        10.197153         9.574051   \n",
       "b0003          8.782278         8.742474         9.637226         9.655356   \n",
       "b0004          8.363498         8.215478         9.037703         9.027710   \n",
       "b0005          5.560236         5.819425         5.957660         6.105838   \n",
       "\n",
       "        PD_117_R16_S05#  PD_117_R5_S05#1  ...  PD_123_R12_S05#  \\\n",
       "Geneid                                    ...                    \n",
       "b0001          9.636620        11.052673  ...        11.267593   \n",
       "b0002          9.451363         7.754347  ...         8.182046   \n",
       "b0003          9.667506         7.602189  ...         7.838649   \n",
       "b0004          9.083592         7.274509  ...         7.650119   \n",
       "b0005          5.817777         3.851237  ...         5.553585   \n",
       "\n",
       "        PD_123_R13_S05#  PD_123_R14_S05#  PD_123_R15_S05#  PD_123_R16_S05#  \\\n",
       "Geneid                                                                       \n",
       "b0001         10.085499         9.882722         8.941416        11.326079   \n",
       "b0002          7.732953         8.183372         7.790060         8.484266   \n",
       "b0003          7.802649         8.140787         7.513838         7.628948   \n",
       "b0004          7.348478         7.944324         6.538991         7.537017   \n",
       "b0005          4.239501         4.500223         4.676019         4.855211   \n",
       "\n",
       "        PD_123_R5_S05#1  PD_123_R6_S05#1  PD_123_R7_S05#1  PD_123_R8_S05#1  \\\n",
       "Geneid                                                                       \n",
       "b0001         11.546252        11.009942        10.547354        10.252775   \n",
       "b0002          7.723273         8.288264         7.555798         7.769895   \n",
       "b0003          7.644197         7.717265         7.675395         7.815305   \n",
       "b0004          7.255310         7.627116         7.229710         7.430127   \n",
       "b0005          3.685820         3.750354         4.067940         3.901692   \n",
       "\n",
       "        PD_123_R9_S05#1  \n",
       "Geneid                   \n",
       "b0001         11.109756  \n",
       "b0002          8.184395  \n",
       "b0003          7.931424  \n",
       "b0004          7.605211  \n",
       "b0005          4.822042  \n",
       "\n",
       "[5 rows x 50 columns]"
      ]
     },
     "execution_count": 4,
     "metadata": {},
     "output_type": "execute_result"
    }
   ],
   "source": [
    "DF_log_tpm = pd.read_csv(logTPM_file,index_col=0).fillna(0)\n",
    "print('Number of genes:',DF_log_tpm.shape[0])\n",
    "print('Number of samples:',DF_log_tpm.shape[1])\n",
    "DF_log_tpm.head()"
   ]
  },
  {
   "cell_type": "markdown",
   "metadata": {},
   "source": [
    "### Load QC data\n",
    "There may be some datasets that failed along the processing pipeline, so the number of samples with QC data may be higher than the number of samples with expression data."
   ]
  },
  {
   "cell_type": "code",
   "execution_count": 5,
   "metadata": {},
   "outputs": [
    {
     "name": "stdout",
     "output_type": "stream",
     "text": [
      "Number of samples with QC data: 50\n"
     ]
    }
   ],
   "source": [
    "DF_qc_stats = pd.read_csv(multiqc_file,index_col=0, sep='\\t')\n",
    "print('Number of samples with QC data:',DF_qc_stats.shape[0])"
   ]
  },
  {
   "cell_type": "code",
   "execution_count": 6,
   "metadata": {},
   "outputs": [
    {
     "data": {
      "text/html": [
       "<div>\n",
       "<style scoped>\n",
       "    .dataframe tbody tr th:only-of-type {\n",
       "        vertical-align: middle;\n",
       "    }\n",
       "\n",
       "    .dataframe tbody tr th {\n",
       "        vertical-align: top;\n",
       "    }\n",
       "\n",
       "    .dataframe thead th {\n",
       "        text-align: right;\n",
       "    }\n",
       "</style>\n",
       "<table border=\"1\" class=\"dataframe\">\n",
       "  <thead>\n",
       "    <tr style=\"text-align: right;\">\n",
       "      <th></th>\n",
       "      <th>Total</th>\n",
       "      <th>Assigned</th>\n",
       "      <th>Unassigned_rRNA</th>\n",
       "      <th>Unassigned_Unmapped</th>\n",
       "      <th>Unassigned_Read_Type</th>\n",
       "      <th>Unassigned_Singleton</th>\n",
       "      <th>Unassigned_MappingQuality</th>\n",
       "      <th>Unassigned_Chimera</th>\n",
       "      <th>Unassigned_FragmentLength</th>\n",
       "      <th>Unassigned_Duplicate</th>\n",
       "      <th>...</th>\n",
       "      <th>r_processed</th>\n",
       "      <th>r_with_adapters</th>\n",
       "      <th>r_written</th>\n",
       "      <th>bp_processed</th>\n",
       "      <th>quality_trimmed</th>\n",
       "      <th>bp_written</th>\n",
       "      <th>percent_trimmed</th>\n",
       "      <th>pe_sense</th>\n",
       "      <th>pe_antisense</th>\n",
       "      <th>failed</th>\n",
       "    </tr>\n",
       "    <tr>\n",
       "      <th>Sample</th>\n",
       "      <th></th>\n",
       "      <th></th>\n",
       "      <th></th>\n",
       "      <th></th>\n",
       "      <th></th>\n",
       "      <th></th>\n",
       "      <th></th>\n",
       "      <th></th>\n",
       "      <th></th>\n",
       "      <th></th>\n",
       "      <th></th>\n",
       "      <th></th>\n",
       "      <th></th>\n",
       "      <th></th>\n",
       "      <th></th>\n",
       "      <th></th>\n",
       "      <th></th>\n",
       "      <th></th>\n",
       "      <th></th>\n",
       "      <th></th>\n",
       "      <th></th>\n",
       "    </tr>\n",
       "  </thead>\n",
       "  <tbody>\n",
       "    <tr>\n",
       "      <th>IC1</th>\n",
       "      <td>12027300</td>\n",
       "      <td>9559401</td>\n",
       "      <td>57116</td>\n",
       "      <td>441736</td>\n",
       "      <td>0</td>\n",
       "      <td>0</td>\n",
       "      <td>0</td>\n",
       "      <td>0</td>\n",
       "      <td>323</td>\n",
       "      <td>0</td>\n",
       "      <td>...</td>\n",
       "      <td>12028293</td>\n",
       "      <td>4137147</td>\n",
       "      <td>12028293</td>\n",
       "      <td>1202829300</td>\n",
       "      <td>606590</td>\n",
       "      <td>1196309923</td>\n",
       "      <td>0.542004</td>\n",
       "      <td>0.0192</td>\n",
       "      <td>0.4655</td>\n",
       "      <td>0.5153</td>\n",
       "    </tr>\n",
       "    <tr>\n",
       "      <th>IC2</th>\n",
       "      <td>12008233</td>\n",
       "      <td>8343711</td>\n",
       "      <td>62859</td>\n",
       "      <td>484821</td>\n",
       "      <td>0</td>\n",
       "      <td>0</td>\n",
       "      <td>0</td>\n",
       "      <td>0</td>\n",
       "      <td>391</td>\n",
       "      <td>0</td>\n",
       "      <td>...</td>\n",
       "      <td>12008696</td>\n",
       "      <td>4214335</td>\n",
       "      <td>12008696</td>\n",
       "      <td>1200869600</td>\n",
       "      <td>595927</td>\n",
       "      <td>1194291595</td>\n",
       "      <td>0.547770</td>\n",
       "      <td>0.0160</td>\n",
       "      <td>0.5138</td>\n",
       "      <td>0.4702</td>\n",
       "    </tr>\n",
       "    <tr>\n",
       "      <th>PD_117_R10_S05#</th>\n",
       "      <td>12144714</td>\n",
       "      <td>8346938</td>\n",
       "      <td>74007</td>\n",
       "      <td>454135</td>\n",
       "      <td>0</td>\n",
       "      <td>0</td>\n",
       "      <td>0</td>\n",
       "      <td>0</td>\n",
       "      <td>472</td>\n",
       "      <td>0</td>\n",
       "      <td>...</td>\n",
       "      <td>12144916</td>\n",
       "      <td>3825985</td>\n",
       "      <td>12144916</td>\n",
       "      <td>1214491600</td>\n",
       "      <td>818223</td>\n",
       "      <td>1208410620</td>\n",
       "      <td>0.500702</td>\n",
       "      <td>0.0192</td>\n",
       "      <td>0.4748</td>\n",
       "      <td>0.5060</td>\n",
       "    </tr>\n",
       "    <tr>\n",
       "      <th>PD_117_R11_S05#</th>\n",
       "      <td>12074325</td>\n",
       "      <td>8216070</td>\n",
       "      <td>40853</td>\n",
       "      <td>1026782</td>\n",
       "      <td>0</td>\n",
       "      <td>0</td>\n",
       "      <td>0</td>\n",
       "      <td>0</td>\n",
       "      <td>353</td>\n",
       "      <td>0</td>\n",
       "      <td>...</td>\n",
       "      <td>12074738</td>\n",
       "      <td>4194274</td>\n",
       "      <td>12074738</td>\n",
       "      <td>1207473800</td>\n",
       "      <td>817576</td>\n",
       "      <td>1200762220</td>\n",
       "      <td>0.555836</td>\n",
       "      <td>0.0203</td>\n",
       "      <td>0.4785</td>\n",
       "      <td>0.5012</td>\n",
       "    </tr>\n",
       "    <tr>\n",
       "      <th>PD_117_R12_S05#</th>\n",
       "      <td>12002410</td>\n",
       "      <td>7936354</td>\n",
       "      <td>50402</td>\n",
       "      <td>993189</td>\n",
       "      <td>0</td>\n",
       "      <td>0</td>\n",
       "      <td>0</td>\n",
       "      <td>0</td>\n",
       "      <td>280</td>\n",
       "      <td>0</td>\n",
       "      <td>...</td>\n",
       "      <td>12002784</td>\n",
       "      <td>4164256</td>\n",
       "      <td>12002784</td>\n",
       "      <td>1200278400</td>\n",
       "      <td>642887</td>\n",
       "      <td>1193788080</td>\n",
       "      <td>0.540735</td>\n",
       "      <td>0.0193</td>\n",
       "      <td>0.4880</td>\n",
       "      <td>0.4927</td>\n",
       "    </tr>\n",
       "  </tbody>\n",
       "</table>\n",
       "<p>5 rows × 52 columns</p>\n",
       "</div>"
      ],
      "text/plain": [
       "                    Total  Assigned  Unassigned_rRNA  Unassigned_Unmapped  \\\n",
       "Sample                                                                      \n",
       "IC1              12027300   9559401            57116               441736   \n",
       "IC2              12008233   8343711            62859               484821   \n",
       "PD_117_R10_S05#  12144714   8346938            74007               454135   \n",
       "PD_117_R11_S05#  12074325   8216070            40853              1026782   \n",
       "PD_117_R12_S05#  12002410   7936354            50402               993189   \n",
       "\n",
       "                 Unassigned_Read_Type  Unassigned_Singleton  \\\n",
       "Sample                                                        \n",
       "IC1                                 0                     0   \n",
       "IC2                                 0                     0   \n",
       "PD_117_R10_S05#                     0                     0   \n",
       "PD_117_R11_S05#                     0                     0   \n",
       "PD_117_R12_S05#                     0                     0   \n",
       "\n",
       "                 Unassigned_MappingQuality  Unassigned_Chimera  \\\n",
       "Sample                                                           \n",
       "IC1                                      0                   0   \n",
       "IC2                                      0                   0   \n",
       "PD_117_R10_S05#                          0                   0   \n",
       "PD_117_R11_S05#                          0                   0   \n",
       "PD_117_R12_S05#                          0                   0   \n",
       "\n",
       "                 Unassigned_FragmentLength  Unassigned_Duplicate  ...  \\\n",
       "Sample                                                            ...   \n",
       "IC1                                    323                     0  ...   \n",
       "IC2                                    391                     0  ...   \n",
       "PD_117_R10_S05#                        472                     0  ...   \n",
       "PD_117_R11_S05#                        353                     0  ...   \n",
       "PD_117_R12_S05#                        280                     0  ...   \n",
       "\n",
       "                 r_processed  r_with_adapters  r_written  bp_processed  \\\n",
       "Sample                                                                   \n",
       "IC1                 12028293          4137147   12028293    1202829300   \n",
       "IC2                 12008696          4214335   12008696    1200869600   \n",
       "PD_117_R10_S05#     12144916          3825985   12144916    1214491600   \n",
       "PD_117_R11_S05#     12074738          4194274   12074738    1207473800   \n",
       "PD_117_R12_S05#     12002784          4164256   12002784    1200278400   \n",
       "\n",
       "                 quality_trimmed  bp_written  percent_trimmed  pe_sense  \\\n",
       "Sample                                                                    \n",
       "IC1                       606590  1196309923         0.542004    0.0192   \n",
       "IC2                       595927  1194291595         0.547770    0.0160   \n",
       "PD_117_R10_S05#           818223  1208410620         0.500702    0.0192   \n",
       "PD_117_R11_S05#           817576  1200762220         0.555836    0.0203   \n",
       "PD_117_R12_S05#           642887  1193788080         0.540735    0.0193   \n",
       "\n",
       "                 pe_antisense  failed  \n",
       "Sample                                 \n",
       "IC1                    0.4655  0.5153  \n",
       "IC2                    0.5138  0.4702  \n",
       "PD_117_R10_S05#        0.4748  0.5060  \n",
       "PD_117_R11_S05#        0.4785  0.5012  \n",
       "PD_117_R12_S05#        0.4880  0.4927  \n",
       "\n",
       "[5 rows x 52 columns]"
      ]
     },
     "execution_count": 6,
     "metadata": {},
     "output_type": "execute_result"
    }
   ],
   "source": [
    "DF_qc_stats.fillna(0,inplace=True)\n",
    "DF_qc_stats.head()"
   ]
  },
  {
   "cell_type": "markdown",
   "metadata": {},
   "source": [
    "### Load metadata"
   ]
  },
  {
   "cell_type": "code",
   "execution_count": null,
   "metadata": {},
   "outputs": [
    {
     "name": "stdout",
     "output_type": "stream",
     "text": [
      "Number of samples with metadata: 50\n"
     ]
    },
    {
     "data": {
      "text/html": [
       "<div>\n",
       "<style scoped>\n",
       "    .dataframe tbody tr th:only-of-type {\n",
       "        vertical-align: middle;\n",
       "    }\n",
       "\n",
       "    .dataframe tbody tr th {\n",
       "        vertical-align: top;\n",
       "    }\n",
       "\n",
       "    .dataframe thead th {\n",
       "        text-align: right;\n",
       "    }\n",
       "</style>\n",
       "<table border=\"1\" class=\"dataframe\">\n",
       "  <thead>\n",
       "    <tr style=\"text-align: right;\">\n",
       "      <th></th>\n",
       "      <th>LibraryLayout</th>\n",
       "      <th>Platform</th>\n",
       "      <th>Run</th>\n",
       "      <th>R1</th>\n",
       "      <th>R2</th>\n",
       "      <th>Unnamed: 6</th>\n",
       "      <th>Unnamed: 7</th>\n",
       "      <th>Unnamed: 8</th>\n",
       "    </tr>\n",
       "    <tr>\n",
       "      <th>Experiment</th>\n",
       "      <th></th>\n",
       "      <th></th>\n",
       "      <th></th>\n",
       "      <th></th>\n",
       "      <th></th>\n",
       "      <th></th>\n",
       "      <th></th>\n",
       "      <th></th>\n",
       "    </tr>\n",
       "  </thead>\n",
       "  <tbody>\n",
       "    <tr>\n",
       "      <th>IC1</th>\n",
       "      <td>PAIRED</td>\n",
       "      <td>ILLUMINA</td>\n",
       "      <td>NaN</td>\n",
       "      <td>/home/suley/workfolder/fastq/IC1_1.fq.gz</td>\n",
       "      <td>/home/suley/workfolder/fastq/IC1_2.fq.gz</td>\n",
       "      <td>NaN</td>\n",
       "      <td>NaN</td>\n",
       "      <td>NaN</td>\n",
       "    </tr>\n",
       "    <tr>\n",
       "      <th>IC2</th>\n",
       "      <td>PAIRED</td>\n",
       "      <td>ILLUMINA</td>\n",
       "      <td>NaN</td>\n",
       "      <td>/home/suley/workfolder/fastq/IC2_1.fq.gz</td>\n",
       "      <td>/home/suley/workfolder/fastq/IC2_2.fq.gz</td>\n",
       "      <td>NaN</td>\n",
       "      <td>NaN</td>\n",
       "      <td>NaN</td>\n",
       "    </tr>\n",
       "    <tr>\n",
       "      <th>PD_117_R10_S05#</th>\n",
       "      <td>PAIRED</td>\n",
       "      <td>ILLUMINA</td>\n",
       "      <td>NaN</td>\n",
       "      <td>/home/suley/workfolder/fastq/PD_117_R10_S05#_1...</td>\n",
       "      <td>/home/suley/workfolder/fastq/PD_117_R10_S05#_2...</td>\n",
       "      <td>NaN</td>\n",
       "      <td>NaN</td>\n",
       "      <td>NaN</td>\n",
       "    </tr>\n",
       "    <tr>\n",
       "      <th>PD_117_R11_S05#</th>\n",
       "      <td>PAIRED</td>\n",
       "      <td>ILLUMINA</td>\n",
       "      <td>NaN</td>\n",
       "      <td>/home/suley/workfolder/fastq/PD_117_R11_S05#_1...</td>\n",
       "      <td>/home/suley/workfolder/fastq/PD_117_R11_S05#_2...</td>\n",
       "      <td>NaN</td>\n",
       "      <td>NaN</td>\n",
       "      <td>NaN</td>\n",
       "    </tr>\n",
       "    <tr>\n",
       "      <th>PD_117_R12_S05#</th>\n",
       "      <td>PAIRED</td>\n",
       "      <td>ILLUMINA</td>\n",
       "      <td>NaN</td>\n",
       "      <td>/home/suley/workfolder/fastq/PD_117_R12_S05#_1...</td>\n",
       "      <td>/home/suley/workfolder/fastq/PD_117_R12_S05#_2...</td>\n",
       "      <td>NaN</td>\n",
       "      <td>NaN</td>\n",
       "      <td>NaN</td>\n",
       "    </tr>\n",
       "  </tbody>\n",
       "</table>\n",
       "</div>"
      ],
      "text/plain": [
       "                LibraryLayout  Platform  Run  \\\n",
       "Experiment                                     \n",
       "IC1                    PAIRED  ILLUMINA  NaN   \n",
       "IC2                    PAIRED  ILLUMINA  NaN   \n",
       "PD_117_R10_S05#        PAIRED  ILLUMINA  NaN   \n",
       "PD_117_R11_S05#        PAIRED  ILLUMINA  NaN   \n",
       "PD_117_R12_S05#        PAIRED  ILLUMINA  NaN   \n",
       "\n",
       "                                                                R1  \\\n",
       "Experiment                                                           \n",
       "IC1                       /home/suley/workfolder/fastq/IC1_1.fq.gz   \n",
       "IC2                       /home/suley/workfolder/fastq/IC2_1.fq.gz   \n",
       "PD_117_R10_S05#  /home/suley/workfolder/fastq/PD_117_R10_S05#_1...   \n",
       "PD_117_R11_S05#  /home/suley/workfolder/fastq/PD_117_R11_S05#_1...   \n",
       "PD_117_R12_S05#  /home/suley/workfolder/fastq/PD_117_R12_S05#_1...   \n",
       "\n",
       "                                                                R2  \\\n",
       "Experiment                                                           \n",
       "IC1                       /home/suley/workfolder/fastq/IC1_2.fq.gz   \n",
       "IC2                       /home/suley/workfolder/fastq/IC2_2.fq.gz   \n",
       "PD_117_R10_S05#  /home/suley/workfolder/fastq/PD_117_R10_S05#_2...   \n",
       "PD_117_R11_S05#  /home/suley/workfolder/fastq/PD_117_R11_S05#_2...   \n",
       "PD_117_R12_S05#  /home/suley/workfolder/fastq/PD_117_R12_S05#_2...   \n",
       "\n",
       "                 Unnamed: 6  Unnamed: 7  Unnamed: 8  \n",
       "Experiment                                           \n",
       "IC1                     NaN         NaN         NaN  \n",
       "IC2                     NaN         NaN         NaN  \n",
       "PD_117_R10_S05#         NaN         NaN         NaN  \n",
       "PD_117_R11_S05#         NaN         NaN         NaN  \n",
       "PD_117_R12_S05#         NaN         NaN         NaN  "
      ]
     },
     "execution_count": 7,
     "metadata": {},
     "output_type": "execute_result"
    }
   ],
   "source": [
    "DF_metadata = pd.read_csv(metadata_file,index_col=0,sep='\\t')\n",
    "print('Number of samples with metadata:',DF_metadata.shape[0])\n",
    "DF_metadata.head()"
   ]
  },
  {
   "cell_type": "markdown",
   "metadata": {},
   "source": [
    "### Remove extra sample rows"
   ]
  },
  {
   "cell_type": "markdown",
   "metadata": {},
   "source": [
    "Ensure that metadata and qc_stats data contain all log_tpm sample information."
   ]
  },
  {
   "cell_type": "code",
   "execution_count": 8,
   "metadata": {},
   "outputs": [],
   "source": [
    "assert(set(DF_log_tpm.columns) - set(DF_metadata.index) == set())\n",
    "assert(set(DF_log_tpm.columns) - set(DF_qc_stats.index) == set())"
   ]
  },
  {
   "cell_type": "code",
   "execution_count": 14,
   "metadata": {},
   "outputs": [],
   "source": [
    "DF_metadata = DF_metadata.loc[DF_log_tpm.columns]\n",
    "DF_qc_stats = DF_qc_stats.loc[DF_log_tpm.columns]"
   ]
  },
  {
   "cell_type": "code",
   "execution_count": 17,
   "metadata": {},
   "outputs": [
    {
     "data": {
      "text/plain": [
       "Index(['Total', 'Assigned', 'Unassigned_rRNA', 'Unassigned_Unmapped',\n",
       "       'Unassigned_Read_Type', 'Unassigned_Singleton',\n",
       "       'Unassigned_MappingQuality', 'Unassigned_Chimera',\n",
       "       'Unassigned_FragmentLength', 'Unassigned_Duplicate',\n",
       "       'Unassigned_MultiMapping', 'Unassigned_Secondary',\n",
       "       'Unassigned_NonSplit', 'Unassigned_NoFeatures',\n",
       "       'Unassigned_Overlapping_Length', 'Unassigned_Ambiguity',\n",
       "       'percent_assigned', 'reads_processed', 'reads_aligned',\n",
       "       'reads_aligned_percentage', 'not_aligned', 'not_aligned_percentage',\n",
       "       'Filename', 'File type', 'Encoding', 'Total Sequences',\n",
       "       'Sequences flagged as poor quality', 'Sequence length', '%GC',\n",
       "       'total_deduplicated_percentage', 'avg_sequence_length',\n",
       "       'basic_statistics', 'per_base_sequence_quality',\n",
       "       'per_sequence_quality_scores', 'per_base_sequence_content',\n",
       "       'per_sequence_gc_content', 'per_base_n_content',\n",
       "       'sequence_length_distribution', 'sequence_duplication_levels',\n",
       "       'overrepresented_sequences', 'adapter_content', 'cutadapt_version',\n",
       "       'r_processed', 'r_with_adapters', 'r_written', 'bp_processed',\n",
       "       'quality_trimmed', 'bp_written', 'percent_trimmed', 'pe_sense',\n",
       "       'pe_antisense', 'failed'],\n",
       "      dtype='object')"
      ]
     },
     "execution_count": 17,
     "metadata": {},
     "output_type": "execute_result"
    }
   ],
   "source": [
    "DF_qc_stats.columns"
   ]
  },
  {
   "cell_type": "markdown",
   "metadata": {},
   "source": [
    "## Check QC statistics"
   ]
  },
  {
   "cell_type": "markdown",
   "metadata": {},
   "source": [
    "### FastQC quality control"
   ]
  },
  {
   "cell_type": "code",
   "execution_count": 18,
   "metadata": {},
   "outputs": [],
   "source": [
    "# fastqc_cols = ['per_base_sequence_quality',\n",
    "#        'per_tile_sequence_quality', 'per_sequence_quality_scores',\n",
    "#        'per_base_sequence_content', 'per_sequence_gc_content',\n",
    "#        'per_base_n_content', 'sequence_length_distribution',\n",
    "#        'sequence_duplication_levels', 'overrepresented_sequences',\n",
    "#        'adapter_content']\n",
    "\n",
    "fastqc_cols = ['per_base_sequence_quality', 'per_sequence_quality_scores',\n",
    "       'per_base_sequence_content', 'per_sequence_gc_content',\n",
    "       'per_base_n_content', 'sequence_length_distribution',\n",
    "       'sequence_duplication_levels', 'overrepresented_sequences',\n",
    "       'adapter_content']"
   ]
  },
  {
   "cell_type": "code",
   "execution_count": 19,
   "metadata": {},
   "outputs": [
    {
     "data": {
      "image/png": "[encoded data removed]",
      "text/plain": [
       "<Figure size 640x480 with 2 Axes>"
      ]
     },
     "metadata": {},
     "output_type": "display_data"
    }
   ],
   "source": [
    "DF_fastqc = DF_qc_stats[fastqc_cols]\n",
    "ax = sns.heatmap(DF_fastqc.replace('pass',1).replace('warn',0).replace('fail',-1),\n",
    "            cmap='RdYlBu',vmax=1.3,vmin=-1.3)\n",
    "cbar = ax.collections[0].colorbar\n",
    "cbar.set_ticks([-1,0,1])\n",
    "cbar.set_ticklabels(['fail','warn','pass'])"
   ]
  },
  {
   "cell_type": "markdown",
   "metadata": {},
   "source": [
    "The following four categories are the most important:\n",
    "* per_base_sequence_quality\n",
    "* per_sequence_quality_scores\n",
    "* per_base_n_content\n",
    "* adapter_content\n",
    "    \n",
    "If a sample does not pass any of these four categories, discard the sample."
   ]
  },
  {
   "cell_type": "code",
   "execution_count": 20,
   "metadata": {},
   "outputs": [],
   "source": [
    "fastqc_fail_cols = ['per_base_sequence_quality','per_sequence_quality_scores','per_base_n_content','adapter_content']"
   ]
  },
  {
   "cell_type": "code",
   "execution_count": 21,
   "metadata": {},
   "outputs": [
    {
     "data": {
      "text/html": [
       "<div>\n",
       "<style scoped>\n",
       "    .dataframe tbody tr th:only-of-type {\n",
       "        vertical-align: middle;\n",
       "    }\n",
       "\n",
       "    .dataframe tbody tr th {\n",
       "        vertical-align: top;\n",
       "    }\n",
       "\n",
       "    .dataframe thead th {\n",
       "        text-align: right;\n",
       "    }\n",
       "</style>\n",
       "<table border=\"1\" class=\"dataframe\">\n",
       "  <thead>\n",
       "    <tr style=\"text-align: right;\">\n",
       "      <th></th>\n",
       "      <th>per_base_sequence_quality</th>\n",
       "      <th>per_sequence_quality_scores</th>\n",
       "      <th>per_base_n_content</th>\n",
       "      <th>adapter_content</th>\n",
       "    </tr>\n",
       "  </thead>\n",
       "  <tbody>\n",
       "  </tbody>\n",
       "</table>\n",
       "</div>"
      ],
      "text/plain": [
       "Empty DataFrame\n",
       "Columns: [per_base_sequence_quality, per_sequence_quality_scores, per_base_n_content, adapter_content]\n",
       "Index: []"
      ]
     },
     "execution_count": 21,
     "metadata": {},
     "output_type": "execute_result"
    }
   ],
   "source": [
    "DF_failed_fastqc = DF_fastqc[fastqc_fail_cols][(DF_fastqc[fastqc_fail_cols] != 'pass').any(axis=1)]\n",
    "DF_failed_fastqc[fastqc_fail_cols]"
   ]
  },
  {
   "cell_type": "markdown",
   "metadata": {},
   "source": [
    "Mark samples that passed."
   ]
  },
  {
   "cell_type": "code",
   "execution_count": 22,
   "metadata": {},
   "outputs": [],
   "source": [
    "DF_metadata['passed_fastqc'] = ~DF_metadata.index.isin(DF_failed_fastqc.index)"
   ]
  },
  {
   "cell_type": "markdown",
   "metadata": {},
   "source": [
    "### Number of aligned reads"
   ]
  },
  {
   "cell_type": "markdown",
   "metadata": {},
   "source": [
    "The following histogram shows how many reads map to coding sequences (i.e. mRNA). Too few aligned reads reduces the sensitivity of the resulting data."
   ]
  },
  {
   "cell_type": "code",
   "execution_count": 23,
   "metadata": {},
   "outputs": [],
   "source": [
    "min_mrna_reads = 500000 # Minimum number of reads mapped to mRNA (500,000)"
   ]
  },
  {
   "cell_type": "code",
   "execution_count": 24,
   "metadata": {},
   "outputs": [
    {
     "data": {
      "text/plain": [
       "Text(0.5, 1.0, 'Number of reads mapped to CDS')"
      ]
     },
     "execution_count": 24,
     "metadata": {},
     "output_type": "execute_result"
    },
    {
     "data": {
      "image/png": "[encoded data removed]",
      "text/plain": [
       "<Figure size 640x480 with 1 Axes>"
      ]
     },
     "metadata": {},
     "output_type": "display_data"
    }
   ],
   "source": [
    "fig,ax = plt.subplots()\n",
    "ax.hist(DF_qc_stats['Assigned']/1e6,bins=50,alpha=0.8)\n",
    "ymin,ymax = ax.get_ylim()\n",
    "ax.vlines(min_mrna_reads/1e6,ymin,ymax,color='r')\n",
    "ax.set_ylim((ymin,ymax))\n",
    "ax.set_xlabel('# Reads (M)',fontsize=14)\n",
    "ax.set_ylabel('# Samples',fontsize=14)\n",
    "ax.set_title('Number of reads mapped to CDS',fontsize=16)"
   ]
  },
  {
   "cell_type": "markdown",
   "metadata": {},
   "source": [
    "Identify samples with poor read depth:"
   ]
  },
  {
   "cell_type": "code",
   "execution_count": 25,
   "metadata": {},
   "outputs": [
    {
     "data": {
      "text/html": [
       "<div>\n",
       "<style scoped>\n",
       "    .dataframe tbody tr th:only-of-type {\n",
       "        vertical-align: middle;\n",
       "    }\n",
       "\n",
       "    .dataframe tbody tr th {\n",
       "        vertical-align: top;\n",
       "    }\n",
       "\n",
       "    .dataframe thead th {\n",
       "        text-align: right;\n",
       "    }\n",
       "</style>\n",
       "<table border=\"1\" class=\"dataframe\">\n",
       "  <thead>\n",
       "    <tr style=\"text-align: right;\">\n",
       "      <th></th>\n",
       "      <th>Total</th>\n",
       "      <th>Assigned</th>\n",
       "      <th>Unassigned_rRNA</th>\n",
       "      <th>Unassigned_Unmapped</th>\n",
       "      <th>Unassigned_Read_Type</th>\n",
       "      <th>Unassigned_Singleton</th>\n",
       "      <th>Unassigned_MappingQuality</th>\n",
       "      <th>Unassigned_Chimera</th>\n",
       "      <th>Unassigned_FragmentLength</th>\n",
       "      <th>Unassigned_Duplicate</th>\n",
       "      <th>...</th>\n",
       "      <th>r_processed</th>\n",
       "      <th>r_with_adapters</th>\n",
       "      <th>r_written</th>\n",
       "      <th>bp_processed</th>\n",
       "      <th>quality_trimmed</th>\n",
       "      <th>bp_written</th>\n",
       "      <th>percent_trimmed</th>\n",
       "      <th>pe_sense</th>\n",
       "      <th>pe_antisense</th>\n",
       "      <th>failed</th>\n",
       "    </tr>\n",
       "  </thead>\n",
       "  <tbody>\n",
       "  </tbody>\n",
       "</table>\n",
       "<p>0 rows × 52 columns</p>\n",
       "</div>"
      ],
      "text/plain": [
       "Empty DataFrame\n",
       "Columns: [Total, Assigned, Unassigned_rRNA, Unassigned_Unmapped, Unassigned_Read_Type, Unassigned_Singleton, Unassigned_MappingQuality, Unassigned_Chimera, Unassigned_FragmentLength, Unassigned_Duplicate, Unassigned_MultiMapping, Unassigned_Secondary, Unassigned_NonSplit, Unassigned_NoFeatures, Unassigned_Overlapping_Length, Unassigned_Ambiguity, percent_assigned, reads_processed, reads_aligned, reads_aligned_percentage, not_aligned, not_aligned_percentage, Filename, File type, Encoding, Total Sequences, Sequences flagged as poor quality, Sequence length, %GC, total_deduplicated_percentage, avg_sequence_length, basic_statistics, per_base_sequence_quality, per_sequence_quality_scores, per_base_sequence_content, per_sequence_gc_content, per_base_n_content, sequence_length_distribution, sequence_duplication_levels, overrepresented_sequences, adapter_content, cutadapt_version, r_processed, r_with_adapters, r_written, bp_processed, quality_trimmed, bp_written, percent_trimmed, pe_sense, pe_antisense, failed]\n",
       "Index: []\n",
       "\n",
       "[0 rows x 52 columns]"
      ]
     },
     "execution_count": 25,
     "metadata": {},
     "output_type": "execute_result"
    }
   ],
   "source": [
    "DF_failed_mrna = DF_qc_stats[DF_qc_stats['Assigned'] < min_mrna_reads].sort_values('Assigned')\n",
    "DF_failed_mrna"
   ]
  },
  {
   "cell_type": "markdown",
   "metadata": {},
   "source": [
    "Mark samples that passed."
   ]
  },
  {
   "cell_type": "code",
   "execution_count": 26,
   "metadata": {},
   "outputs": [],
   "source": [
    "DF_metadata['passed_reads_mapped_to_CDS'] = ~DF_metadata.index.isin(DF_failed_mrna.index)"
   ]
  },
  {
   "cell_type": "markdown",
   "metadata": {},
   "source": [
    "### Examine Global Correlations"
   ]
  },
  {
   "cell_type": "markdown",
   "metadata": {},
   "source": [
    "Only examine data that passed the first two steps."
   ]
  },
  {
   "cell_type": "code",
   "execution_count": 27,
   "metadata": {},
   "outputs": [],
   "source": [
    "metadata_passed_step2 = DF_metadata[DF_metadata[['passed_fastqc','passed_reads_mapped_to_CDS']].all(axis=1)]\n",
    "DF_log_tpm_passed_step2 = DF_log_tpm[metadata_passed_step2.index]"
   ]
  },
  {
   "cell_type": "markdown",
   "metadata": {},
   "source": [
    "A clustermap is a great way to visualize the global correlations between one sample and all others. The ``global_clustering`` function uses hierarchical clustering to identify specific clusters in the clustermap. The optional arguments are:\n",
    "\n",
    "* ``threshold``: Threshold used to extract clusters from the hierarchy. To increase the number of clusters, decrease the value of ``threshold``. To decrease the number of clusters, increase the value of ``threshold`` (default: 0.3)\n",
    "* ``figsize``: A tuple describing the length and width of the final clustermap. A larger figsize can make x and y-axis labels clearer.\n",
    "* ``xticklabels``: Show NCBI SRA accession numbers on the x-axis\n",
    "* ``yticklabels``: Show NCBI SRA accession numbers on the y-axis"
   ]
  },
  {
   "cell_type": "code",
   "execution_count": 28,
   "metadata": {},
   "outputs": [],
   "source": [
    "import scipy.cluster.hierarchy as sch\n",
    "import matplotlib.patches as patches\n",
    "\n",
    "def global_clustering(data, threshold=0.3, xticklabels=False, yticklabels=False, figsize=(9,9)):\n",
    "    \n",
    "    # Retrieve clusters using fcluster \n",
    "    corr = data.corr()\n",
    "    corr.fillna(0,inplace=True)\n",
    "    dist = sch.distance.pdist(corr)\n",
    "    link = sch.linkage(dist, method='complete')\n",
    "    clst = pd.DataFrame(index=data.columns)\n",
    "    clst['cluster'] = sch.fcluster(link, threshold * dist.max(), 'distance')\n",
    "\n",
    "    # Get colors for each cluster\n",
    "    cm = plt.cm.get_cmap('tab20')\n",
    "    cluster_colors = dict(zip(clst.cluster.unique(), cm.colors))\n",
    "    clst['color'] = clst.cluster.map(cluster_colors)\n",
    "\n",
    "    print('Number of cluster: ', len(cluster_colors))\n",
    "    \n",
    "    legend_items = [patches.Patch(color=c, label=l) for l,c in cluster_colors.items()]\n",
    "    \n",
    "    sns.set(rc={'figure.facecolor':'white'})\n",
    "    \n",
    "    clst_map = sns.clustermap(data.corr(), \n",
    "                              figsize=figsize, \n",
    "                              row_linkage=link, \n",
    "                              col_linkage=link, \n",
    "                              col_colors=clst.color,\n",
    "                              yticklabels=yticklabels, \n",
    "                              xticklabels=xticklabels,\n",
    "                              vmin=0, \n",
    "                              vmax=1)\n",
    "    \n",
    "    legend = clst_map.ax_heatmap.legend(loc='upper left', \n",
    "                                        bbox_to_anchor=(1.01,0.85), \n",
    "                                        handles=legend_items,\n",
    "                                        frameon=True)\n",
    "    \n",
    "    legend.set_title(title='Clusters',prop={'size':10})\n",
    "    \n",
    "    return clst['cluster']"
   ]
  },
  {
   "cell_type": "code",
   "execution_count": 29,
   "metadata": {},
   "outputs": [
    {
     "name": "stdout",
     "output_type": "stream",
     "text": [
      "Number of cluster:  2\n"
     ]
    },
    {
     "data": {
      "image/png": "[encoded data removed]",
      "text/plain": [
       "<Figure size 900x900 with 5 Axes>"
      ]
     },
     "metadata": {},
     "output_type": "display_data"
    }
   ],
   "source": [
    "clusters = global_clustering(DF_log_tpm_passed_step2)"
   ]
  },
  {
   "cell_type": "markdown",
   "metadata": {},
   "source": [
    "Select clusters to remove."
   ]
  },
  {
   "cell_type": "code",
   "execution_count": 42,
   "metadata": {},
   "outputs": [],
   "source": [
    "remove_clusters = [2]\n",
    "passed_global_corr = clusters[~clusters.isin(remove_clusters)].index"
   ]
  },
  {
   "cell_type": "code",
   "execution_count": 43,
   "metadata": {},
   "outputs": [
    {
     "data": {
      "text/plain": [
       "49"
      ]
     },
     "execution_count": 43,
     "metadata": {},
     "output_type": "execute_result"
    }
   ],
   "source": [
    "len(passed_global_corr)"
   ]
  },
  {
   "cell_type": "markdown",
   "metadata": {},
   "source": [
    "The following code can be adapted to see the NCBI SRA accession for samples in each cluster."
   ]
  },
  {
   "cell_type": "code",
   "execution_count": 44,
   "metadata": {},
   "outputs": [
    {
     "data": {
      "text/plain": [
       "IC1                1\n",
       "IC2                1\n",
       "PD_117_R10_S05#    1\n",
       "PD_117_R11_S05#    1\n",
       "PD_117_R12_S05#    1\n",
       "PD_117_R13_S05#    1\n",
       "PD_117_R14_S05#    1\n",
       "PD_117_R15_S05#    1\n",
       "PD_117_R16_S05#    1\n",
       "PD_117_R5_S05#1    1\n",
       "PD_117_R6_S05#1    1\n",
       "PD_117_R7_S05#1    1\n",
       "PD_117_R8_S05#1    1\n",
       "PD_117_R9_S05#1    1\n",
       "PD_121_R10_S05#    1\n",
       "PD_121_R11_S05#    1\n",
       "PD_121_R12_S05#    1\n",
       "PD_121_R13_S05#    1\n",
       "PD_121_R14_S05#    1\n",
       "PD_121_R15_S05#    1\n",
       "PD_121_R16_S05#    1\n",
       "PD_121_R5_S05#2    1\n",
       "PD_121_R6_S05#2    1\n",
       "PD_121_R7_S05#2    1\n",
       "PD_121_R8_S05#2    1\n",
       "PD_121_R9_S05#2    1\n",
       "PD_122_R10_S05#    1\n",
       "PD_122_R11_S05#    1\n",
       "PD_122_R12_S05#    1\n",
       "PD_122_R13_S05#    1\n",
       "PD_122_R14_S05#    1\n",
       "PD_122_R15_S05#    1\n",
       "PD_122_R16_S05#    1\n",
       "PD_122_R5_S05#2    1\n",
       "PD_122_R6_S05#2    1\n",
       "PD_122_R7_S05#2    1\n",
       "PD_122_R8_S05#1    1\n",
       "PD_122_R9_S05#2    1\n",
       "PD_123_R10_S05#    1\n",
       "PD_123_R11_S05#    1\n",
       "PD_123_R12_S05#    1\n",
       "PD_123_R13_S05#    1\n",
       "PD_123_R14_S05#    1\n",
       "PD_123_R16_S05#    1\n",
       "PD_123_R5_S05#1    1\n",
       "PD_123_R6_S05#1    1\n",
       "PD_123_R7_S05#1    1\n",
       "PD_123_R8_S05#1    1\n",
       "PD_123_R9_S05#1    1\n",
       "Name: cluster, dtype: int32"
      ]
     },
     "execution_count": 44,
     "metadata": {},
     "output_type": "execute_result"
    }
   ],
   "source": [
    "clusters[clusters == 1]"
   ]
  },
  {
   "cell_type": "markdown",
   "metadata": {},
   "source": [
    "Re-cluster samples to ensure all outliers were removed."
   ]
  },
  {
   "cell_type": "code",
   "execution_count": 45,
   "metadata": {},
   "outputs": [],
   "source": [
    "DF_log_tpm_passed_step3 = DF_log_tpm[passed_global_corr]"
   ]
  },
  {
   "cell_type": "code",
   "execution_count": 46,
   "metadata": {},
   "outputs": [
    {
     "name": "stdout",
     "output_type": "stream",
     "text": [
      "Number of cluster:  6\n"
     ]
    },
    {
     "data": {
      "image/png": "[encoded data removed]",
      "text/plain": [
       "<Figure size 900x900 with 5 Axes>"
      ]
     },
     "metadata": {},
     "output_type": "display_data"
    }
   ],
   "source": [
    "clusters = global_clustering(DF_log_tpm_passed_step3)"
   ]
  },
  {
   "cell_type": "markdown",
   "metadata": {},
   "source": [
    "Once you are satisfied with your dataset, mark the samples that passed the global correlation"
   ]
  },
  {
   "cell_type": "code",
   "execution_count": 47,
   "metadata": {},
   "outputs": [],
   "source": [
    "DF_metadata['passed_global_correlation'] = DF_metadata.index.isin(passed_global_corr)"
   ]
  },
  {
   "cell_type": "code",
   "execution_count": 49,
   "metadata": {},
   "outputs": [
    {
     "data": {
      "text/html": [
       "<div>\n",
       "<style scoped>\n",
       "    .dataframe tbody tr th:only-of-type {\n",
       "        vertical-align: middle;\n",
       "    }\n",
       "\n",
       "    .dataframe tbody tr th {\n",
       "        vertical-align: top;\n",
       "    }\n",
       "\n",
       "    .dataframe thead th {\n",
       "        text-align: right;\n",
       "    }\n",
       "</style>\n",
       "<table border=\"1\" class=\"dataframe\">\n",
       "  <thead>\n",
       "    <tr style=\"text-align: right;\">\n",
       "      <th></th>\n",
       "      <th>LibraryLayout</th>\n",
       "      <th>Platform</th>\n",
       "      <th>Run</th>\n",
       "      <th>R1</th>\n",
       "      <th>R2</th>\n",
       "      <th>Unnamed: 6</th>\n",
       "      <th>Unnamed: 7</th>\n",
       "      <th>Unnamed: 8</th>\n",
       "      <th>passed_fastqc</th>\n",
       "      <th>passed_reads_mapped_to_CDS</th>\n",
       "      <th>passed_global_correlation</th>\n",
       "    </tr>\n",
       "  </thead>\n",
       "  <tbody>\n",
       "    <tr>\n",
       "      <th>IC1</th>\n",
       "      <td>PAIRED</td>\n",
       "      <td>ILLUMINA</td>\n",
       "      <td>NaN</td>\n",
       "      <td>/home/suley/workfolder/fastq/IC1_1.fq.gz</td>\n",
       "      <td>/home/suley/workfolder/fastq/IC1_2.fq.gz</td>\n",
       "      <td>NaN</td>\n",
       "      <td>NaN</td>\n",
       "      <td>NaN</td>\n",
       "      <td>True</td>\n",
       "      <td>True</td>\n",
       "      <td>True</td>\n",
       "    </tr>\n",
       "    <tr>\n",
       "      <th>IC2</th>\n",
       "      <td>PAIRED</td>\n",
       "      <td>ILLUMINA</td>\n",
       "      <td>NaN</td>\n",
       "      <td>/home/suley/workfolder/fastq/IC2_1.fq.gz</td>\n",
       "      <td>/home/suley/workfolder/fastq/IC2_2.fq.gz</td>\n",
       "      <td>NaN</td>\n",
       "      <td>NaN</td>\n",
       "      <td>NaN</td>\n",
       "      <td>True</td>\n",
       "      <td>True</td>\n",
       "      <td>True</td>\n",
       "    </tr>\n",
       "    <tr>\n",
       "      <th>PD_117_R10_S05#</th>\n",
       "      <td>PAIRED</td>\n",
       "      <td>ILLUMINA</td>\n",
       "      <td>NaN</td>\n",
       "      <td>/home/suley/workfolder/fastq/PD_117_R10_S05#_1...</td>\n",
       "      <td>/home/suley/workfolder/fastq/PD_117_R10_S05#_2...</td>\n",
       "      <td>NaN</td>\n",
       "      <td>NaN</td>\n",
       "      <td>NaN</td>\n",
       "      <td>True</td>\n",
       "      <td>True</td>\n",
       "      <td>True</td>\n",
       "    </tr>\n",
       "    <tr>\n",
       "      <th>PD_117_R11_S05#</th>\n",
       "      <td>PAIRED</td>\n",
       "      <td>ILLUMINA</td>\n",
       "      <td>NaN</td>\n",
       "      <td>/home/suley/workfolder/fastq/PD_117_R11_S05#_1...</td>\n",
       "      <td>/home/suley/workfolder/fastq/PD_117_R11_S05#_2...</td>\n",
       "      <td>NaN</td>\n",
       "      <td>NaN</td>\n",
       "      <td>NaN</td>\n",
       "      <td>True</td>\n",
       "      <td>True</td>\n",
       "      <td>True</td>\n",
       "    </tr>\n",
       "    <tr>\n",
       "      <th>PD_117_R12_S05#</th>\n",
       "      <td>PAIRED</td>\n",
       "      <td>ILLUMINA</td>\n",
       "      <td>NaN</td>\n",
       "      <td>/home/suley/workfolder/fastq/PD_117_R12_S05#_1...</td>\n",
       "      <td>/home/suley/workfolder/fastq/PD_117_R12_S05#_2...</td>\n",
       "      <td>NaN</td>\n",
       "      <td>NaN</td>\n",
       "      <td>NaN</td>\n",
       "      <td>True</td>\n",
       "      <td>True</td>\n",
       "      <td>True</td>\n",
       "    </tr>\n",
       "  </tbody>\n",
       "</table>\n",
       "</div>"
      ],
      "text/plain": [
       "                LibraryLayout  Platform  Run  \\\n",
       "IC1                    PAIRED  ILLUMINA  NaN   \n",
       "IC2                    PAIRED  ILLUMINA  NaN   \n",
       "PD_117_R10_S05#        PAIRED  ILLUMINA  NaN   \n",
       "PD_117_R11_S05#        PAIRED  ILLUMINA  NaN   \n",
       "PD_117_R12_S05#        PAIRED  ILLUMINA  NaN   \n",
       "\n",
       "                                                                R1  \\\n",
       "IC1                       /home/suley/workfolder/fastq/IC1_1.fq.gz   \n",
       "IC2                       /home/suley/workfolder/fastq/IC2_1.fq.gz   \n",
       "PD_117_R10_S05#  /home/suley/workfolder/fastq/PD_117_R10_S05#_1...   \n",
       "PD_117_R11_S05#  /home/suley/workfolder/fastq/PD_117_R11_S05#_1...   \n",
       "PD_117_R12_S05#  /home/suley/workfolder/fastq/PD_117_R12_S05#_1...   \n",
       "\n",
       "                                                                R2  \\\n",
       "IC1                       /home/suley/workfolder/fastq/IC1_2.fq.gz   \n",
       "IC2                       /home/suley/workfolder/fastq/IC2_2.fq.gz   \n",
       "PD_117_R10_S05#  /home/suley/workfolder/fastq/PD_117_R10_S05#_2...   \n",
       "PD_117_R11_S05#  /home/suley/workfolder/fastq/PD_117_R11_S05#_2...   \n",
       "PD_117_R12_S05#  /home/suley/workfolder/fastq/PD_117_R12_S05#_2...   \n",
       "\n",
       "                 Unnamed: 6  Unnamed: 7  Unnamed: 8  passed_fastqc  \\\n",
       "IC1                     NaN         NaN         NaN           True   \n",
       "IC2                     NaN         NaN         NaN           True   \n",
       "PD_117_R10_S05#         NaN         NaN         NaN           True   \n",
       "PD_117_R11_S05#         NaN         NaN         NaN           True   \n",
       "PD_117_R12_S05#         NaN         NaN         NaN           True   \n",
       "\n",
       "                 passed_reads_mapped_to_CDS  passed_global_correlation  \n",
       "IC1                                    True                       True  \n",
       "IC2                                    True                       True  \n",
       "PD_117_R10_S05#                        True                       True  \n",
       "PD_117_R11_S05#                        True                       True  \n",
       "PD_117_R12_S05#                        True                       True  "
      ]
     },
     "execution_count": 49,
     "metadata": {},
     "output_type": "execute_result"
    }
   ],
   "source": [
    "DF_metadata.head()"
   ]
  },
  {
   "cell_type": "markdown",
   "metadata": {},
   "source": [
    "# Remove failed samples"
   ]
  },
  {
   "cell_type": "code",
   "execution_count": 50,
   "metadata": {},
   "outputs": [],
   "source": [
    "qc_columns = ['passed_fastqc',\n",
    "              'passed_reads_mapped_to_CDS',\n",
    "              'passed_global_correlation']"
   ]
  },
  {
   "cell_type": "code",
   "execution_count": 51,
   "metadata": {},
   "outputs": [],
   "source": [
    "pass_qc = DF_metadata[qc_columns].all(axis=1)\n",
    "DF_metadata_passed = DF_metadata[pass_qc]"
   ]
  },
  {
   "cell_type": "code",
   "execution_count": 52,
   "metadata": {},
   "outputs": [
    {
     "data": {
      "image/png": "[encoded data removed]",
      "text/plain": [
       "<Figure size 640x480 with 1 Axes>"
      ]
     },
     "metadata": {},
     "output_type": "display_data"
    }
   ],
   "source": [
    "_,_,pcts = plt.pie(pass_qc.value_counts().reindex([False,True]),\n",
    "        labels = ['Failed','Passed'],\n",
    "        colors=['tab:red','tab:blue'],\n",
    "        autopct='%.0f%%',textprops={'size':16});\n",
    "\n",
    "# Colors percents white\n",
    "for pct in pcts:\n",
    "    pct.set_color('white')"
   ]
  },
  {
   "cell_type": "markdown",
   "metadata": {},
   "source": [
    "# Save current metadata"
   ]
  },
  {
   "cell_type": "markdown",
   "metadata": {},
   "source": [
    "Enter path of interim metadata files here. It is recommended that the ``metadata_qc.tsv`` file is copied to a new ``metadata_qc_curated.tsv`` file before editing. This will prevent this notebook from over-writing any curated metadata."
   ]
  },
  {
   "cell_type": "code",
   "execution_count": 55,
   "metadata": {},
   "outputs": [],
   "source": [
    "metadata_all_qc_file = path.join('..', 'data', 'interim', 'DDB_SD_1_metadata_qc_part1_all.tsv') # Enter filename for full metadata QC file\n",
    "metadata_qc_file = path.join('..', 'data', 'interim', 'DDB_SD_1_metadata_qc_part1.tsv') # Enter filename for metadata QC file with only passing datasets"
   ]
  },
  {
   "cell_type": "code",
   "execution_count": 56,
   "metadata": {},
   "outputs": [],
   "source": [
    "DF_metadata.to_csv(metadata_all_qc_file, sep='\\t')\n",
    "DF_metadata_passed.to_csv(metadata_qc_file, sep='\\t')"
   ]
  },
  {
   "cell_type": "markdown",
   "metadata": {},
   "source": [
    "# Metadata Curation"
   ]
  },
  {
   "cell_type": "markdown",
   "metadata": {},
   "source": [
    "The next step is to curate the metadata. At a minimum, three new columns must be added to the metadata sheet:\n",
    "* ``project``: Nickname for the project. Each bioproject should have a unique project IDs.\n",
    "* ``condition``: Nickname for the experimental condition. Biological/technical replicates must have identical condition IDs.\n",
    "* ``reference_condition``: Condition ID of the reference condition. Each project has a single reference condition (See [example metadata sheet](https://github.com/SBRG/nf-rnaseq-bacteria/blob/master/example_data/processed_data/metadata_curated.tsv))\n",
    "\n",
    "Additional columns may include:\n",
    "* ``strain_description``: The strain name, and any knock-outs or overexpressed genes\n",
    "* ``base_media``: Media used (e.g. ``M9``)\n",
    "* ``carbon_source``: Primary carbon source, with concentration in parentheses (e.g. ``glucose(.4%)``). This is usually empty for undefined media.\n",
    "* ``nitrogen_source``: Primary nitrogen source, with concentration in parentheses (e.g. ``NH4Cl(1M)``). This is usually empty for undefined media.\n",
    "* ``aerobicity``: Usually ``aerobic`` or ``anaerobic``\n",
    "* ``treatment``: Any additional supplements or treatments added to the base media (e.g. ``thiamine(0.1M)`` or ``ampicillin(100ug/mL)``)\n",
    "* ``temperature``\n",
    "* ``pH``\n",
    "* ``OD``: Approximate optical density of cells when selected for library preparation\n",
    "* ``growth_phase``: e.g. ``mid-exponential`` or ``stationary``\n",
    "* ``culture_type``: Usually ``batch`` or ``chemostat``\n",
    "* ``skip``: Whether to skip a sample due to external reasons (e.g. not traditional RNA-seq, distant strain, or lack of metadata)\n",
    "\n",
    "If specific metadata entries are not reported for a sample, these can be left blank. However, if no metadata can be gleaned from public databases, then we recommend discarding the samples.\n",
    "\n",
    "Once the metadata has been curated, proceed to [Step 2](https://github.com/avsastry/modulome-workflow/edit/main/3_quality_control/expression_QC_part2.ipynb)"
   ]
  },
  {
   "cell_type": "code",
   "execution_count": null,
   "metadata": {},
   "outputs": [],
   "source": []
  }
 ],
 "metadata": {
  "kernelspec": {
   "display_name": "Python 3 (ipykernel)",
   "language": "python",
   "name": "python3"
  },
  "language_info": {
   "codemirror_mode": {
    "name": "ipython",
    "version": 3
   },
   "file_extension": ".py",
   "mimetype": "text/x-python",
   "name": "python",
   "nbconvert_exporter": "python",
   "pygments_lexer": "ipython3",
   "version": "3.9.7"
  },
  "toc": {
   "base_numbering": 1,
   "nav_menu": {},
   "number_sections": true,
   "sideBar": true,
   "skip_h1_title": false,
   "title_cell": "Table of Contents",
   "title_sidebar": "Contents",
   "toc_cell": true,
   "toc_position": {},
   "toc_section_display": true,
   "toc_window_display": false
  }
 },
 "nbformat": 4,
 "nbformat_minor": 4
}
