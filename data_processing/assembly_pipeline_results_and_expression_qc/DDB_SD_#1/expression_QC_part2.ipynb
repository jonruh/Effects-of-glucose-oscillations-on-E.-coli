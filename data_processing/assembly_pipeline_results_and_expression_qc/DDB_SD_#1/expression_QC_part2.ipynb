{
 "cells": [
  {
   "cell_type": "markdown",
   "metadata": {},
   "source": [
    "# Expression Quality Control (Part 2)"
   ]
  },
  {
   "cell_type": "markdown",
   "metadata": {},
   "source": [
    "This is a template notebook for performing the final quality control on your organism's expression data. This requires a curated metadata sheet."
   ]
  },
  {
   "cell_type": "markdown",
   "metadata": {},
   "source": [
    "## Setup "
   ]
  },
  {
   "cell_type": "code",
   "execution_count": 16,
   "metadata": {},
   "outputs": [],
   "source": [
    "import itertools\n",
    "\n",
    "import matplotlib.pyplot as plt\n",
    "import numpy as np\n",
    "import pandas as pd\n",
    "import seaborn as sns\n",
    "\n",
    "from os import path\n",
    "from scipy import stats\n",
    "from tqdm.notebook import tqdm"
   ]
  },
  {
   "cell_type": "code",
   "execution_count": 17,
   "metadata": {},
   "outputs": [],
   "source": [
    "sns.set_style('ticks')"
   ]
  },
  {
   "cell_type": "markdown",
   "metadata": {},
   "source": [
    "### Inputs"
   ]
  },
  {
   "cell_type": "code",
   "execution_count": 18,
   "metadata": {},
   "outputs": [],
   "source": [
    "logTPM_file = path.join('..','data','raw_data','log_tpm.csv') # Enter log-TPM filename here\n",
    "all_metadata_file = path.join('..','data','interim','DDB_SD_1_metadata_qc_part1_all.tsv') # Enter full metadata filename here\n",
    "metadata_file = path.join('..','data','interim','DDB_SD_1_metadata_qc_part1_all_curated.tsv') # Enter curated metadata filename here"
   ]
  },
  {
   "cell_type": "markdown",
   "metadata": {},
   "source": [
    "### Load expression data"
   ]
  },
  {
   "cell_type": "code",
   "execution_count": 19,
   "metadata": {},
   "outputs": [
    {
     "name": "stdout",
     "output_type": "stream",
     "text": [
      "Number of genes: 4355\n",
      "Number of samples: 50\n"
     ]
    },
    {
     "data": {
      "text/html": [
       "<div>\n",
       "<style scoped>\n",
       "    .dataframe tbody tr th:only-of-type {\n",
       "        vertical-align: middle;\n",
       "    }\n",
       "\n",
       "    .dataframe tbody tr th {\n",
       "        vertical-align: top;\n",
       "    }\n",
       "\n",
       "    .dataframe thead th {\n",
       "        text-align: right;\n",
       "    }\n",
       "</style>\n",
       "<table border=\"1\" class=\"dataframe\">\n",
       "  <thead>\n",
       "    <tr style=\"text-align: right;\">\n",
       "      <th></th>\n",
       "      <th>IC1</th>\n",
       "      <th>IC2</th>\n",
       "      <th>PD_117_R10_S05#</th>\n",
       "      <th>PD_117_R11_S05#</th>\n",
       "      <th>PD_117_R12_S05#</th>\n",
       "      <th>PD_117_R13_S05#</th>\n",
       "      <th>PD_117_R14_S05#</th>\n",
       "      <th>PD_117_R15_S05#</th>\n",
       "      <th>PD_117_R16_S05#</th>\n",
       "      <th>PD_117_R5_S05#1</th>\n",
       "      <th>...</th>\n",
       "      <th>PD_123_R12_S05#</th>\n",
       "      <th>PD_123_R13_S05#</th>\n",
       "      <th>PD_123_R14_S05#</th>\n",
       "      <th>PD_123_R15_S05#</th>\n",
       "      <th>PD_123_R16_S05#</th>\n",
       "      <th>PD_123_R5_S05#1</th>\n",
       "      <th>PD_123_R6_S05#1</th>\n",
       "      <th>PD_123_R7_S05#1</th>\n",
       "      <th>PD_123_R8_S05#1</th>\n",
       "      <th>PD_123_R9_S05#1</th>\n",
       "    </tr>\n",
       "    <tr>\n",
       "      <th>Geneid</th>\n",
       "      <th></th>\n",
       "      <th></th>\n",
       "      <th></th>\n",
       "      <th></th>\n",
       "      <th></th>\n",
       "      <th></th>\n",
       "      <th></th>\n",
       "      <th></th>\n",
       "      <th></th>\n",
       "      <th></th>\n",
       "      <th></th>\n",
       "      <th></th>\n",
       "      <th></th>\n",
       "      <th></th>\n",
       "      <th></th>\n",
       "      <th></th>\n",
       "      <th></th>\n",
       "      <th></th>\n",
       "      <th></th>\n",
       "      <th></th>\n",
       "      <th></th>\n",
       "    </tr>\n",
       "  </thead>\n",
       "  <tbody>\n",
       "    <tr>\n",
       "      <th>b0001</th>\n",
       "      <td>11.002527</td>\n",
       "      <td>12.732594</td>\n",
       "      <td>11.081665</td>\n",
       "      <td>10.268826</td>\n",
       "      <td>10.233329</td>\n",
       "      <td>9.989378</td>\n",
       "      <td>10.281131</td>\n",
       "      <td>9.962700</td>\n",
       "      <td>9.636620</td>\n",
       "      <td>11.052673</td>\n",
       "      <td>...</td>\n",
       "      <td>11.267593</td>\n",
       "      <td>10.085499</td>\n",
       "      <td>9.882722</td>\n",
       "      <td>8.941416</td>\n",
       "      <td>11.326079</td>\n",
       "      <td>11.546252</td>\n",
       "      <td>11.009942</td>\n",
       "      <td>10.547354</td>\n",
       "      <td>10.252775</td>\n",
       "      <td>11.109756</td>\n",
       "    </tr>\n",
       "    <tr>\n",
       "      <th>b0002</th>\n",
       "      <td>11.220569</td>\n",
       "      <td>10.738328</td>\n",
       "      <td>7.645440</td>\n",
       "      <td>9.522497</td>\n",
       "      <td>9.117753</td>\n",
       "      <td>9.139083</td>\n",
       "      <td>10.197153</td>\n",
       "      <td>9.574051</td>\n",
       "      <td>9.451363</td>\n",
       "      <td>7.754347</td>\n",
       "      <td>...</td>\n",
       "      <td>8.182046</td>\n",
       "      <td>7.732953</td>\n",
       "      <td>8.183372</td>\n",
       "      <td>7.790060</td>\n",
       "      <td>8.484266</td>\n",
       "      <td>7.723273</td>\n",
       "      <td>8.288264</td>\n",
       "      <td>7.555798</td>\n",
       "      <td>7.769895</td>\n",
       "      <td>8.184395</td>\n",
       "    </tr>\n",
       "    <tr>\n",
       "      <th>b0003</th>\n",
       "      <td>10.435381</td>\n",
       "      <td>10.161018</td>\n",
       "      <td>7.640769</td>\n",
       "      <td>9.083923</td>\n",
       "      <td>8.782278</td>\n",
       "      <td>8.742474</td>\n",
       "      <td>9.637226</td>\n",
       "      <td>9.655356</td>\n",
       "      <td>9.667506</td>\n",
       "      <td>7.602189</td>\n",
       "      <td>...</td>\n",
       "      <td>7.838649</td>\n",
       "      <td>7.802649</td>\n",
       "      <td>8.140787</td>\n",
       "      <td>7.513838</td>\n",
       "      <td>7.628948</td>\n",
       "      <td>7.644197</td>\n",
       "      <td>7.717265</td>\n",
       "      <td>7.675395</td>\n",
       "      <td>7.815305</td>\n",
       "      <td>7.931424</td>\n",
       "    </tr>\n",
       "    <tr>\n",
       "      <th>b0004</th>\n",
       "      <td>9.771227</td>\n",
       "      <td>9.804738</td>\n",
       "      <td>7.383264</td>\n",
       "      <td>8.404835</td>\n",
       "      <td>8.363498</td>\n",
       "      <td>8.215478</td>\n",
       "      <td>9.037703</td>\n",
       "      <td>9.027710</td>\n",
       "      <td>9.083592</td>\n",
       "      <td>7.274509</td>\n",
       "      <td>...</td>\n",
       "      <td>7.650119</td>\n",
       "      <td>7.348478</td>\n",
       "      <td>7.944324</td>\n",
       "      <td>6.538991</td>\n",
       "      <td>7.537017</td>\n",
       "      <td>7.255310</td>\n",
       "      <td>7.627116</td>\n",
       "      <td>7.229710</td>\n",
       "      <td>7.430127</td>\n",
       "      <td>7.605211</td>\n",
       "    </tr>\n",
       "    <tr>\n",
       "      <th>b0005</th>\n",
       "      <td>5.653987</td>\n",
       "      <td>5.586375</td>\n",
       "      <td>4.077732</td>\n",
       "      <td>5.696586</td>\n",
       "      <td>5.560236</td>\n",
       "      <td>5.819425</td>\n",
       "      <td>5.957660</td>\n",
       "      <td>6.105838</td>\n",
       "      <td>5.817777</td>\n",
       "      <td>3.851237</td>\n",
       "      <td>...</td>\n",
       "      <td>5.553585</td>\n",
       "      <td>4.239501</td>\n",
       "      <td>4.500223</td>\n",
       "      <td>4.676019</td>\n",
       "      <td>4.855211</td>\n",
       "      <td>3.685820</td>\n",
       "      <td>3.750354</td>\n",
       "      <td>4.067940</td>\n",
       "      <td>3.901692</td>\n",
       "      <td>4.822042</td>\n",
       "    </tr>\n",
       "  </tbody>\n",
       "</table>\n",
       "<p>5 rows × 50 columns</p>\n",
       "</div>"
      ],
      "text/plain": [
       "              IC1        IC2  PD_117_R10_S05#  PD_117_R11_S05#  \\\n",
       "Geneid                                                           \n",
       "b0001   11.002527  12.732594        11.081665        10.268826   \n",
       "b0002   11.220569  10.738328         7.645440         9.522497   \n",
       "b0003   10.435381  10.161018         7.640769         9.083923   \n",
       "b0004    9.771227   9.804738         7.383264         8.404835   \n",
       "b0005    5.653987   5.586375         4.077732         5.696586   \n",
       "\n",
       "        PD_117_R12_S05#  PD_117_R13_S05#  PD_117_R14_S05#  PD_117_R15_S05#  \\\n",
       "Geneid                                                                       \n",
       "b0001         10.233329         9.989378        10.281131         9.962700   \n",
       "b0002          9.117753         9.139083        10.197153         9.574051   \n",
       "b0003          8.782278         8.742474         9.637226         9.655356   \n",
       "b0004          8.363498         8.215478         9.037703         9.027710   \n",
       "b0005          5.560236         5.819425         5.957660         6.105838   \n",
       "\n",
       "        PD_117_R16_S05#  PD_117_R5_S05#1  ...  PD_123_R12_S05#  \\\n",
       "Geneid                                    ...                    \n",
       "b0001          9.636620        11.052673  ...        11.267593   \n",
       "b0002          9.451363         7.754347  ...         8.182046   \n",
       "b0003          9.667506         7.602189  ...         7.838649   \n",
       "b0004          9.083592         7.274509  ...         7.650119   \n",
       "b0005          5.817777         3.851237  ...         5.553585   \n",
       "\n",
       "        PD_123_R13_S05#  PD_123_R14_S05#  PD_123_R15_S05#  PD_123_R16_S05#  \\\n",
       "Geneid                                                                       \n",
       "b0001         10.085499         9.882722         8.941416        11.326079   \n",
       "b0002          7.732953         8.183372         7.790060         8.484266   \n",
       "b0003          7.802649         8.140787         7.513838         7.628948   \n",
       "b0004          7.348478         7.944324         6.538991         7.537017   \n",
       "b0005          4.239501         4.500223         4.676019         4.855211   \n",
       "\n",
       "        PD_123_R5_S05#1  PD_123_R6_S05#1  PD_123_R7_S05#1  PD_123_R8_S05#1  \\\n",
       "Geneid                                                                       \n",
       "b0001         11.546252        11.009942        10.547354        10.252775   \n",
       "b0002          7.723273         8.288264         7.555798         7.769895   \n",
       "b0003          7.644197         7.717265         7.675395         7.815305   \n",
       "b0004          7.255310         7.627116         7.229710         7.430127   \n",
       "b0005          3.685820         3.750354         4.067940         3.901692   \n",
       "\n",
       "        PD_123_R9_S05#1  \n",
       "Geneid                   \n",
       "b0001         11.109756  \n",
       "b0002          8.184395  \n",
       "b0003          7.931424  \n",
       "b0004          7.605211  \n",
       "b0005          4.822042  \n",
       "\n",
       "[5 rows x 50 columns]"
      ]
     },
     "execution_count": 19,
     "metadata": {},
     "output_type": "execute_result"
    }
   ],
   "source": [
    "DF_log_tpm = pd.read_csv(logTPM_file,index_col=0).fillna(0)\n",
    "print('Number of genes:',DF_log_tpm.shape[0])\n",
    "print('Number of samples:',DF_log_tpm.shape[1])\n",
    "DF_log_tpm.head()"
   ]
  },
  {
   "cell_type": "markdown",
   "metadata": {},
   "source": [
    "### Load metadata"
   ]
  },
  {
   "cell_type": "code",
   "execution_count": 20,
   "metadata": {},
   "outputs": [
    {
     "name": "stdout",
     "output_type": "stream",
     "text": [
      "Number of samples with curated metadata: 50\n"
     ]
    },
    {
     "data": {
      "text/html": [
       "<div>\n",
       "<style scoped>\n",
       "    .dataframe tbody tr th:only-of-type {\n",
       "        vertical-align: middle;\n",
       "    }\n",
       "\n",
       "    .dataframe tbody tr th {\n",
       "        vertical-align: top;\n",
       "    }\n",
       "\n",
       "    .dataframe thead th {\n",
       "        text-align: right;\n",
       "    }\n",
       "</style>\n",
       "<table border=\"1\" class=\"dataframe\">\n",
       "  <thead>\n",
       "    <tr style=\"text-align: right;\">\n",
       "      <th></th>\n",
       "      <th>LibraryLayout</th>\n",
       "      <th>Platform</th>\n",
       "      <th>Run</th>\n",
       "      <th>R1</th>\n",
       "      <th>R2</th>\n",
       "      <th>Unnamed: 6</th>\n",
       "      <th>Unnamed: 7</th>\n",
       "      <th>Unnamed: 8</th>\n",
       "      <th>passed_fastqc</th>\n",
       "      <th>passed_reads_mapped_to_CDS</th>\n",
       "      <th>passed_global_correlation</th>\n",
       "      <th>project</th>\n",
       "      <th>condition</th>\n",
       "      <th>reference_condition</th>\n",
       "      <th>skip</th>\n",
       "    </tr>\n",
       "  </thead>\n",
       "  <tbody>\n",
       "    <tr>\n",
       "      <th>IC1</th>\n",
       "      <td>PAIRED</td>\n",
       "      <td>ILLUMINA</td>\n",
       "      <td>NaN</td>\n",
       "      <td>/home/suley/workfolder/fastq/IC1_1.fq.gz</td>\n",
       "      <td>/home/suley/workfolder/fastq/IC1_2.fq.gz</td>\n",
       "      <td>NaN</td>\n",
       "      <td>NaN</td>\n",
       "      <td>NaN</td>\n",
       "      <td>True</td>\n",
       "      <td>True</td>\n",
       "      <td>True</td>\n",
       "      <td>DDB_SD_1</td>\n",
       "      <td>WT_batch</td>\n",
       "      <td>WT_batch</td>\n",
       "      <td>NaN</td>\n",
       "    </tr>\n",
       "    <tr>\n",
       "      <th>IC2</th>\n",
       "      <td>PAIRED</td>\n",
       "      <td>ILLUMINA</td>\n",
       "      <td>NaN</td>\n",
       "      <td>/home/suley/workfolder/fastq/IC2_1.fq.gz</td>\n",
       "      <td>/home/suley/workfolder/fastq/IC2_2.fq.gz</td>\n",
       "      <td>NaN</td>\n",
       "      <td>NaN</td>\n",
       "      <td>NaN</td>\n",
       "      <td>True</td>\n",
       "      <td>True</td>\n",
       "      <td>True</td>\n",
       "      <td>DDB_SD_1</td>\n",
       "      <td>WT_batch</td>\n",
       "      <td>WT_batch</td>\n",
       "      <td>NaN</td>\n",
       "    </tr>\n",
       "    <tr>\n",
       "      <th>PD_117_R10_S05#</th>\n",
       "      <td>PAIRED</td>\n",
       "      <td>ILLUMINA</td>\n",
       "      <td>NaN</td>\n",
       "      <td>/home/suley/workfolder/fastq/PD_117_R10_S05#_1...</td>\n",
       "      <td>/home/suley/workfolder/fastq/PD_117_R10_S05#_2...</td>\n",
       "      <td>NaN</td>\n",
       "      <td>NaN</td>\n",
       "      <td>NaN</td>\n",
       "      <td>True</td>\n",
       "      <td>True</td>\n",
       "      <td>True</td>\n",
       "      <td>DDB_SD_1</td>\n",
       "      <td>WT_C-starv</td>\n",
       "      <td>WT_batch</td>\n",
       "      <td>NaN</td>\n",
       "    </tr>\n",
       "    <tr>\n",
       "      <th>PD_117_R11_S05#</th>\n",
       "      <td>PAIRED</td>\n",
       "      <td>ILLUMINA</td>\n",
       "      <td>NaN</td>\n",
       "      <td>/home/suley/workfolder/fastq/PD_117_R11_S05#_1...</td>\n",
       "      <td>/home/suley/workfolder/fastq/PD_117_R11_S05#_2...</td>\n",
       "      <td>NaN</td>\n",
       "      <td>NaN</td>\n",
       "      <td>NaN</td>\n",
       "      <td>True</td>\n",
       "      <td>True</td>\n",
       "      <td>True</td>\n",
       "      <td>DDB_SD_1</td>\n",
       "      <td>HMP3071_C-lim</td>\n",
       "      <td>WT_batch</td>\n",
       "      <td>NaN</td>\n",
       "    </tr>\n",
       "    <tr>\n",
       "      <th>PD_117_R12_S05#</th>\n",
       "      <td>PAIRED</td>\n",
       "      <td>ILLUMINA</td>\n",
       "      <td>NaN</td>\n",
       "      <td>/home/suley/workfolder/fastq/PD_117_R12_S05#_1...</td>\n",
       "      <td>/home/suley/workfolder/fastq/PD_117_R12_S05#_2...</td>\n",
       "      <td>NaN</td>\n",
       "      <td>NaN</td>\n",
       "      <td>NaN</td>\n",
       "      <td>True</td>\n",
       "      <td>True</td>\n",
       "      <td>True</td>\n",
       "      <td>DDB_SD_1</td>\n",
       "      <td>HMP3071_C-lim</td>\n",
       "      <td>WT_batch</td>\n",
       "      <td>NaN</td>\n",
       "    </tr>\n",
       "  </tbody>\n",
       "</table>\n",
       "</div>"
      ],
      "text/plain": [
       "                LibraryLayout  Platform  Run  \\\n",
       "IC1                    PAIRED  ILLUMINA  NaN   \n",
       "IC2                    PAIRED  ILLUMINA  NaN   \n",
       "PD_117_R10_S05#        PAIRED  ILLUMINA  NaN   \n",
       "PD_117_R11_S05#        PAIRED  ILLUMINA  NaN   \n",
       "PD_117_R12_S05#        PAIRED  ILLUMINA  NaN   \n",
       "\n",
       "                                                                R1  \\\n",
       "IC1                       /home/suley/workfolder/fastq/IC1_1.fq.gz   \n",
       "IC2                       /home/suley/workfolder/fastq/IC2_1.fq.gz   \n",
       "PD_117_R10_S05#  /home/suley/workfolder/fastq/PD_117_R10_S05#_1...   \n",
       "PD_117_R11_S05#  /home/suley/workfolder/fastq/PD_117_R11_S05#_1...   \n",
       "PD_117_R12_S05#  /home/suley/workfolder/fastq/PD_117_R12_S05#_1...   \n",
       "\n",
       "                                                                R2  \\\n",
       "IC1                       /home/suley/workfolder/fastq/IC1_2.fq.gz   \n",
       "IC2                       /home/suley/workfolder/fastq/IC2_2.fq.gz   \n",
       "PD_117_R10_S05#  /home/suley/workfolder/fastq/PD_117_R10_S05#_2...   \n",
       "PD_117_R11_S05#  /home/suley/workfolder/fastq/PD_117_R11_S05#_2...   \n",
       "PD_117_R12_S05#  /home/suley/workfolder/fastq/PD_117_R12_S05#_2...   \n",
       "\n",
       "                 Unnamed: 6  Unnamed: 7  Unnamed: 8  passed_fastqc  \\\n",
       "IC1                     NaN         NaN         NaN           True   \n",
       "IC2                     NaN         NaN         NaN           True   \n",
       "PD_117_R10_S05#         NaN         NaN         NaN           True   \n",
       "PD_117_R11_S05#         NaN         NaN         NaN           True   \n",
       "PD_117_R12_S05#         NaN         NaN         NaN           True   \n",
       "\n",
       "                 passed_reads_mapped_to_CDS  passed_global_correlation  \\\n",
       "IC1                                    True                       True   \n",
       "IC2                                    True                       True   \n",
       "PD_117_R10_S05#                        True                       True   \n",
       "PD_117_R11_S05#                        True                       True   \n",
       "PD_117_R12_S05#                        True                       True   \n",
       "\n",
       "                  project      condition reference_condition  skip  \n",
       "IC1              DDB_SD_1       WT_batch            WT_batch   NaN  \n",
       "IC2              DDB_SD_1       WT_batch            WT_batch   NaN  \n",
       "PD_117_R10_S05#  DDB_SD_1     WT_C-starv            WT_batch   NaN  \n",
       "PD_117_R11_S05#  DDB_SD_1  HMP3071_C-lim            WT_batch   NaN  \n",
       "PD_117_R12_S05#  DDB_SD_1  HMP3071_C-lim            WT_batch   NaN  "
      ]
     },
     "execution_count": 20,
     "metadata": {},
     "output_type": "execute_result"
    }
   ],
   "source": [
    "DF_metadata = pd.read_csv(metadata_file,index_col=0,sep='\\t')\n",
    "print('Number of samples with curated metadata:',DF_metadata.shape[0])\n",
    "DF_metadata.head()"
   ]
  },
  {
   "cell_type": "code",
   "execution_count": 21,
   "metadata": {},
   "outputs": [],
   "source": [
    "DF_metadata_all = pd.read_csv(all_metadata_file,index_col=0,sep='\\t')"
   ]
  },
  {
   "cell_type": "markdown",
   "metadata": {},
   "source": [
    "## Remove samples due to poor metadata"
   ]
  },
  {
   "cell_type": "markdown",
   "metadata": {},
   "source": [
    "After curation, some samples either did not have enough replicates or metadata to warrant inclusion in this database."
   ]
  },
  {
   "cell_type": "code",
   "execution_count": 22,
   "metadata": {},
   "outputs": [
    {
     "name": "stdout",
     "output_type": "stream",
     "text": [
      "New number of samples with curated metadata: 50\n"
     ]
    },
    {
     "data": {
      "text/html": [
       "<div>\n",
       "<style scoped>\n",
       "    .dataframe tbody tr th:only-of-type {\n",
       "        vertical-align: middle;\n",
       "    }\n",
       "\n",
       "    .dataframe tbody tr th {\n",
       "        vertical-align: top;\n",
       "    }\n",
       "\n",
       "    .dataframe thead th {\n",
       "        text-align: right;\n",
       "    }\n",
       "</style>\n",
       "<table border=\"1\" class=\"dataframe\">\n",
       "  <thead>\n",
       "    <tr style=\"text-align: right;\">\n",
       "      <th></th>\n",
       "      <th>LibraryLayout</th>\n",
       "      <th>Platform</th>\n",
       "      <th>Run</th>\n",
       "      <th>R1</th>\n",
       "      <th>R2</th>\n",
       "      <th>Unnamed: 6</th>\n",
       "      <th>Unnamed: 7</th>\n",
       "      <th>Unnamed: 8</th>\n",
       "      <th>passed_fastqc</th>\n",
       "      <th>passed_reads_mapped_to_CDS</th>\n",
       "      <th>passed_global_correlation</th>\n",
       "      <th>project</th>\n",
       "      <th>condition</th>\n",
       "      <th>reference_condition</th>\n",
       "      <th>skip</th>\n",
       "    </tr>\n",
       "  </thead>\n",
       "  <tbody>\n",
       "    <tr>\n",
       "      <th>IC1</th>\n",
       "      <td>PAIRED</td>\n",
       "      <td>ILLUMINA</td>\n",
       "      <td>NaN</td>\n",
       "      <td>/home/suley/workfolder/fastq/IC1_1.fq.gz</td>\n",
       "      <td>/home/suley/workfolder/fastq/IC1_2.fq.gz</td>\n",
       "      <td>NaN</td>\n",
       "      <td>NaN</td>\n",
       "      <td>NaN</td>\n",
       "      <td>True</td>\n",
       "      <td>True</td>\n",
       "      <td>True</td>\n",
       "      <td>DDB_SD_1</td>\n",
       "      <td>WT_batch</td>\n",
       "      <td>WT_batch</td>\n",
       "      <td>NaN</td>\n",
       "    </tr>\n",
       "    <tr>\n",
       "      <th>IC2</th>\n",
       "      <td>PAIRED</td>\n",
       "      <td>ILLUMINA</td>\n",
       "      <td>NaN</td>\n",
       "      <td>/home/suley/workfolder/fastq/IC2_1.fq.gz</td>\n",
       "      <td>/home/suley/workfolder/fastq/IC2_2.fq.gz</td>\n",
       "      <td>NaN</td>\n",
       "      <td>NaN</td>\n",
       "      <td>NaN</td>\n",
       "      <td>True</td>\n",
       "      <td>True</td>\n",
       "      <td>True</td>\n",
       "      <td>DDB_SD_1</td>\n",
       "      <td>WT_batch</td>\n",
       "      <td>WT_batch</td>\n",
       "      <td>NaN</td>\n",
       "    </tr>\n",
       "    <tr>\n",
       "      <th>PD_117_R10_S05#</th>\n",
       "      <td>PAIRED</td>\n",
       "      <td>ILLUMINA</td>\n",
       "      <td>NaN</td>\n",
       "      <td>/home/suley/workfolder/fastq/PD_117_R10_S05#_1...</td>\n",
       "      <td>/home/suley/workfolder/fastq/PD_117_R10_S05#_2...</td>\n",
       "      <td>NaN</td>\n",
       "      <td>NaN</td>\n",
       "      <td>NaN</td>\n",
       "      <td>True</td>\n",
       "      <td>True</td>\n",
       "      <td>True</td>\n",
       "      <td>DDB_SD_1</td>\n",
       "      <td>WT_C-starv</td>\n",
       "      <td>WT_batch</td>\n",
       "      <td>NaN</td>\n",
       "    </tr>\n",
       "    <tr>\n",
       "      <th>PD_117_R11_S05#</th>\n",
       "      <td>PAIRED</td>\n",
       "      <td>ILLUMINA</td>\n",
       "      <td>NaN</td>\n",
       "      <td>/home/suley/workfolder/fastq/PD_117_R11_S05#_1...</td>\n",
       "      <td>/home/suley/workfolder/fastq/PD_117_R11_S05#_2...</td>\n",
       "      <td>NaN</td>\n",
       "      <td>NaN</td>\n",
       "      <td>NaN</td>\n",
       "      <td>True</td>\n",
       "      <td>True</td>\n",
       "      <td>True</td>\n",
       "      <td>DDB_SD_1</td>\n",
       "      <td>HMP3071_C-lim</td>\n",
       "      <td>WT_batch</td>\n",
       "      <td>NaN</td>\n",
       "    </tr>\n",
       "    <tr>\n",
       "      <th>PD_117_R12_S05#</th>\n",
       "      <td>PAIRED</td>\n",
       "      <td>ILLUMINA</td>\n",
       "      <td>NaN</td>\n",
       "      <td>/home/suley/workfolder/fastq/PD_117_R12_S05#_1...</td>\n",
       "      <td>/home/suley/workfolder/fastq/PD_117_R12_S05#_2...</td>\n",
       "      <td>NaN</td>\n",
       "      <td>NaN</td>\n",
       "      <td>NaN</td>\n",
       "      <td>True</td>\n",
       "      <td>True</td>\n",
       "      <td>True</td>\n",
       "      <td>DDB_SD_1</td>\n",
       "      <td>HMP3071_C-lim</td>\n",
       "      <td>WT_batch</td>\n",
       "      <td>NaN</td>\n",
       "    </tr>\n",
       "  </tbody>\n",
       "</table>\n",
       "</div>"
      ],
      "text/plain": [
       "                LibraryLayout  Platform  Run  \\\n",
       "IC1                    PAIRED  ILLUMINA  NaN   \n",
       "IC2                    PAIRED  ILLUMINA  NaN   \n",
       "PD_117_R10_S05#        PAIRED  ILLUMINA  NaN   \n",
       "PD_117_R11_S05#        PAIRED  ILLUMINA  NaN   \n",
       "PD_117_R12_S05#        PAIRED  ILLUMINA  NaN   \n",
       "\n",
       "                                                                R1  \\\n",
       "IC1                       /home/suley/workfolder/fastq/IC1_1.fq.gz   \n",
       "IC2                       /home/suley/workfolder/fastq/IC2_1.fq.gz   \n",
       "PD_117_R10_S05#  /home/suley/workfolder/fastq/PD_117_R10_S05#_1...   \n",
       "PD_117_R11_S05#  /home/suley/workfolder/fastq/PD_117_R11_S05#_1...   \n",
       "PD_117_R12_S05#  /home/suley/workfolder/fastq/PD_117_R12_S05#_1...   \n",
       "\n",
       "                                                                R2  \\\n",
       "IC1                       /home/suley/workfolder/fastq/IC1_2.fq.gz   \n",
       "IC2                       /home/suley/workfolder/fastq/IC2_2.fq.gz   \n",
       "PD_117_R10_S05#  /home/suley/workfolder/fastq/PD_117_R10_S05#_2...   \n",
       "PD_117_R11_S05#  /home/suley/workfolder/fastq/PD_117_R11_S05#_2...   \n",
       "PD_117_R12_S05#  /home/suley/workfolder/fastq/PD_117_R12_S05#_2...   \n",
       "\n",
       "                 Unnamed: 6  Unnamed: 7  Unnamed: 8  passed_fastqc  \\\n",
       "IC1                     NaN         NaN         NaN           True   \n",
       "IC2                     NaN         NaN         NaN           True   \n",
       "PD_117_R10_S05#         NaN         NaN         NaN           True   \n",
       "PD_117_R11_S05#         NaN         NaN         NaN           True   \n",
       "PD_117_R12_S05#         NaN         NaN         NaN           True   \n",
       "\n",
       "                 passed_reads_mapped_to_CDS  passed_global_correlation  \\\n",
       "IC1                                    True                       True   \n",
       "IC2                                    True                       True   \n",
       "PD_117_R10_S05#                        True                       True   \n",
       "PD_117_R11_S05#                        True                       True   \n",
       "PD_117_R12_S05#                        True                       True   \n",
       "\n",
       "                  project      condition reference_condition  skip  \n",
       "IC1              DDB_SD_1       WT_batch            WT_batch   NaN  \n",
       "IC2              DDB_SD_1       WT_batch            WT_batch   NaN  \n",
       "PD_117_R10_S05#  DDB_SD_1     WT_C-starv            WT_batch   NaN  \n",
       "PD_117_R11_S05#  DDB_SD_1  HMP3071_C-lim            WT_batch   NaN  \n",
       "PD_117_R12_S05#  DDB_SD_1  HMP3071_C-lim            WT_batch   NaN  "
      ]
     },
     "execution_count": 22,
     "metadata": {},
     "output_type": "execute_result"
    }
   ],
   "source": [
    "DF_metadata_passed_step4 = DF_metadata[~DF_metadata.skip.fillna(False)].copy()\n",
    "print('New number of samples with curated metadata:',DF_metadata_passed_step4.shape[0])\n",
    "DF_metadata_passed_step4.head()"
   ]
  },
  {
   "cell_type": "markdown",
   "metadata": {},
   "source": [
    "### Check curation\n",
    "Since manual curation is error-prone, we want to make sure that all samples have labels for their project and condition. In addition, there should only be one reference condition in each project, and it should be in the project itself.\n",
    "\n",
    "Any samples that fail these checks will be printed below."
   ]
  },
  {
   "cell_type": "code",
   "execution_count": 23,
   "metadata": {},
   "outputs": [],
   "source": [
    "assert(DF_metadata_passed_step4.project.notnull().all())\n",
    "assert(DF_metadata_passed_step4.condition.notnull().all())\n",
    "\n",
    "for name,group in DF_metadata_passed_step4.groupby('project'):\n",
    "    ref_cond = group.reference_condition.unique()\n",
    "    \n",
    "    # Ensure that there is only one reference condition per project\n",
    "    if not len(ref_cond) == 1:\n",
    "        print('Multiple reference conditions for:, name')\n",
    "    \n",
    "    # Ensure the reference condition is in fact in the project\n",
    "    ref_cond = ref_cond[0]\n",
    "    if not ref_cond in group.condition.tolist():\n",
    "        print('Reference condition not in project:', name)"
   ]
  },
  {
   "cell_type": "markdown",
   "metadata": {},
   "source": [
    "Next, make a new column called ``full_name`` that gives every experimental condition a unique, human-readable identifier."
   ]
  },
  {
   "cell_type": "code",
   "execution_count": 24,
   "metadata": {},
   "outputs": [],
   "source": [
    "DF_metadata_passed_step4['full_name'] = DF_metadata_passed_step4['project'].str.cat(DF_metadata_passed_step4['condition'],sep=':')"
   ]
  },
  {
   "cell_type": "markdown",
   "metadata": {},
   "source": [
    "### Remove samples with only one replicate"
   ]
  },
  {
   "cell_type": "markdown",
   "metadata": {},
   "source": [
    "First, find sample names that have at least two replicates."
   ]
  },
  {
   "cell_type": "code",
   "execution_count": 25,
   "metadata": {},
   "outputs": [
    {
     "name": "stdout",
     "output_type": "stream",
     "text": [
      "Index(['DDB_SD_1:WT_C-starv', 'DDB_SD_1:WT_C-lim', 'DDB_SD_1:HMP3071_C-lim',\n",
      "       'DDB_SD_1:HMP3071_C-starv', 'DDB_SD_1:SDT178_C-starv'],\n",
      "      dtype='object')\n"
     ]
    }
   ],
   "source": [
    "counts = DF_metadata_passed_step4.full_name.value_counts()\n",
    "keep_samples = counts[counts >= 2].index\n",
    "print(keep_samples[:5])"
   ]
  },
  {
   "cell_type": "code",
   "execution_count": 26,
   "metadata": {},
   "outputs": [
    {
     "data": {
      "text/plain": [
       "Index(['DDB_SD_1:WT_C-starv', 'DDB_SD_1:WT_C-lim', 'DDB_SD_1:HMP3071_C-lim',\n",
       "       'DDB_SD_1:HMP3071_C-starv', 'DDB_SD_1:SDT178_C-starv',\n",
       "       'DDB_SD_1:SDT180_C-lim', 'DDB_SD_1:SDT180_C-starv',\n",
       "       'DDB_SD_1:SDT201_C-lim', 'DDB_SD_1:SDT201_C-starv',\n",
       "       'DDB_SD_1:SDT202_C-lim', 'DDB_SD_1:SDT202_C-starv',\n",
       "       'DDB_SD_1:SDT173_C-lim', 'DDB_SD_1:SDT173_C-starv',\n",
       "       'DDB_SD_1:SDT178_C-lim', 'DDB_SD_1:WT_batch'],\n",
       "      dtype='object')"
      ]
     },
     "execution_count": 26,
     "metadata": {},
     "output_type": "execute_result"
    }
   ],
   "source": [
    "keep_samples"
   ]
  },
  {
   "cell_type": "markdown",
   "metadata": {},
   "source": [
    "Only keep these samples"
   ]
  },
  {
   "cell_type": "code",
   "execution_count": 27,
   "metadata": {},
   "outputs": [
    {
     "name": "stdout",
     "output_type": "stream",
     "text": [
      "New number of samples with curated metadata: 50\n"
     ]
    },
    {
     "data": {
      "text/html": [
       "<div>\n",
       "<style scoped>\n",
       "    .dataframe tbody tr th:only-of-type {\n",
       "        vertical-align: middle;\n",
       "    }\n",
       "\n",
       "    .dataframe tbody tr th {\n",
       "        vertical-align: top;\n",
       "    }\n",
       "\n",
       "    .dataframe thead th {\n",
       "        text-align: right;\n",
       "    }\n",
       "</style>\n",
       "<table border=\"1\" class=\"dataframe\">\n",
       "  <thead>\n",
       "    <tr style=\"text-align: right;\">\n",
       "      <th></th>\n",
       "      <th>LibraryLayout</th>\n",
       "      <th>Platform</th>\n",
       "      <th>Run</th>\n",
       "      <th>R1</th>\n",
       "      <th>R2</th>\n",
       "      <th>Unnamed: 6</th>\n",
       "      <th>Unnamed: 7</th>\n",
       "      <th>Unnamed: 8</th>\n",
       "      <th>passed_fastqc</th>\n",
       "      <th>passed_reads_mapped_to_CDS</th>\n",
       "      <th>passed_global_correlation</th>\n",
       "      <th>project</th>\n",
       "      <th>condition</th>\n",
       "      <th>reference_condition</th>\n",
       "      <th>skip</th>\n",
       "      <th>full_name</th>\n",
       "    </tr>\n",
       "  </thead>\n",
       "  <tbody>\n",
       "    <tr>\n",
       "      <th>IC1</th>\n",
       "      <td>PAIRED</td>\n",
       "      <td>ILLUMINA</td>\n",
       "      <td>NaN</td>\n",
       "      <td>/home/suley/workfolder/fastq/IC1_1.fq.gz</td>\n",
       "      <td>/home/suley/workfolder/fastq/IC1_2.fq.gz</td>\n",
       "      <td>NaN</td>\n",
       "      <td>NaN</td>\n",
       "      <td>NaN</td>\n",
       "      <td>True</td>\n",
       "      <td>True</td>\n",
       "      <td>True</td>\n",
       "      <td>DDB_SD_1</td>\n",
       "      <td>WT_batch</td>\n",
       "      <td>WT_batch</td>\n",
       "      <td>NaN</td>\n",
       "      <td>DDB_SD_1:WT_batch</td>\n",
       "    </tr>\n",
       "    <tr>\n",
       "      <th>IC2</th>\n",
       "      <td>PAIRED</td>\n",
       "      <td>ILLUMINA</td>\n",
       "      <td>NaN</td>\n",
       "      <td>/home/suley/workfolder/fastq/IC2_1.fq.gz</td>\n",
       "      <td>/home/suley/workfolder/fastq/IC2_2.fq.gz</td>\n",
       "      <td>NaN</td>\n",
       "      <td>NaN</td>\n",
       "      <td>NaN</td>\n",
       "      <td>True</td>\n",
       "      <td>True</td>\n",
       "      <td>True</td>\n",
       "      <td>DDB_SD_1</td>\n",
       "      <td>WT_batch</td>\n",
       "      <td>WT_batch</td>\n",
       "      <td>NaN</td>\n",
       "      <td>DDB_SD_1:WT_batch</td>\n",
       "    </tr>\n",
       "    <tr>\n",
       "      <th>PD_117_R10_S05#</th>\n",
       "      <td>PAIRED</td>\n",
       "      <td>ILLUMINA</td>\n",
       "      <td>NaN</td>\n",
       "      <td>/home/suley/workfolder/fastq/PD_117_R10_S05#_1...</td>\n",
       "      <td>/home/suley/workfolder/fastq/PD_117_R10_S05#_2...</td>\n",
       "      <td>NaN</td>\n",
       "      <td>NaN</td>\n",
       "      <td>NaN</td>\n",
       "      <td>True</td>\n",
       "      <td>True</td>\n",
       "      <td>True</td>\n",
       "      <td>DDB_SD_1</td>\n",
       "      <td>WT_C-starv</td>\n",
       "      <td>WT_batch</td>\n",
       "      <td>NaN</td>\n",
       "      <td>DDB_SD_1:WT_C-starv</td>\n",
       "    </tr>\n",
       "    <tr>\n",
       "      <th>PD_117_R11_S05#</th>\n",
       "      <td>PAIRED</td>\n",
       "      <td>ILLUMINA</td>\n",
       "      <td>NaN</td>\n",
       "      <td>/home/suley/workfolder/fastq/PD_117_R11_S05#_1...</td>\n",
       "      <td>/home/suley/workfolder/fastq/PD_117_R11_S05#_2...</td>\n",
       "      <td>NaN</td>\n",
       "      <td>NaN</td>\n",
       "      <td>NaN</td>\n",
       "      <td>True</td>\n",
       "      <td>True</td>\n",
       "      <td>True</td>\n",
       "      <td>DDB_SD_1</td>\n",
       "      <td>HMP3071_C-lim</td>\n",
       "      <td>WT_batch</td>\n",
       "      <td>NaN</td>\n",
       "      <td>DDB_SD_1:HMP3071_C-lim</td>\n",
       "    </tr>\n",
       "    <tr>\n",
       "      <th>PD_117_R12_S05#</th>\n",
       "      <td>PAIRED</td>\n",
       "      <td>ILLUMINA</td>\n",
       "      <td>NaN</td>\n",
       "      <td>/home/suley/workfolder/fastq/PD_117_R12_S05#_1...</td>\n",
       "      <td>/home/suley/workfolder/fastq/PD_117_R12_S05#_2...</td>\n",
       "      <td>NaN</td>\n",
       "      <td>NaN</td>\n",
       "      <td>NaN</td>\n",
       "      <td>True</td>\n",
       "      <td>True</td>\n",
       "      <td>True</td>\n",
       "      <td>DDB_SD_1</td>\n",
       "      <td>HMP3071_C-lim</td>\n",
       "      <td>WT_batch</td>\n",
       "      <td>NaN</td>\n",
       "      <td>DDB_SD_1:HMP3071_C-lim</td>\n",
       "    </tr>\n",
       "  </tbody>\n",
       "</table>\n",
       "</div>"
      ],
      "text/plain": [
       "                LibraryLayout  Platform  Run  \\\n",
       "IC1                    PAIRED  ILLUMINA  NaN   \n",
       "IC2                    PAIRED  ILLUMINA  NaN   \n",
       "PD_117_R10_S05#        PAIRED  ILLUMINA  NaN   \n",
       "PD_117_R11_S05#        PAIRED  ILLUMINA  NaN   \n",
       "PD_117_R12_S05#        PAIRED  ILLUMINA  NaN   \n",
       "\n",
       "                                                                R1  \\\n",
       "IC1                       /home/suley/workfolder/fastq/IC1_1.fq.gz   \n",
       "IC2                       /home/suley/workfolder/fastq/IC2_1.fq.gz   \n",
       "PD_117_R10_S05#  /home/suley/workfolder/fastq/PD_117_R10_S05#_1...   \n",
       "PD_117_R11_S05#  /home/suley/workfolder/fastq/PD_117_R11_S05#_1...   \n",
       "PD_117_R12_S05#  /home/suley/workfolder/fastq/PD_117_R12_S05#_1...   \n",
       "\n",
       "                                                                R2  \\\n",
       "IC1                       /home/suley/workfolder/fastq/IC1_2.fq.gz   \n",
       "IC2                       /home/suley/workfolder/fastq/IC2_2.fq.gz   \n",
       "PD_117_R10_S05#  /home/suley/workfolder/fastq/PD_117_R10_S05#_2...   \n",
       "PD_117_R11_S05#  /home/suley/workfolder/fastq/PD_117_R11_S05#_2...   \n",
       "PD_117_R12_S05#  /home/suley/workfolder/fastq/PD_117_R12_S05#_2...   \n",
       "\n",
       "                 Unnamed: 6  Unnamed: 7  Unnamed: 8  passed_fastqc  \\\n",
       "IC1                     NaN         NaN         NaN           True   \n",
       "IC2                     NaN         NaN         NaN           True   \n",
       "PD_117_R10_S05#         NaN         NaN         NaN           True   \n",
       "PD_117_R11_S05#         NaN         NaN         NaN           True   \n",
       "PD_117_R12_S05#         NaN         NaN         NaN           True   \n",
       "\n",
       "                 passed_reads_mapped_to_CDS  passed_global_correlation  \\\n",
       "IC1                                    True                       True   \n",
       "IC2                                    True                       True   \n",
       "PD_117_R10_S05#                        True                       True   \n",
       "PD_117_R11_S05#                        True                       True   \n",
       "PD_117_R12_S05#                        True                       True   \n",
       "\n",
       "                  project      condition reference_condition  skip  \\\n",
       "IC1              DDB_SD_1       WT_batch            WT_batch   NaN   \n",
       "IC2              DDB_SD_1       WT_batch            WT_batch   NaN   \n",
       "PD_117_R10_S05#  DDB_SD_1     WT_C-starv            WT_batch   NaN   \n",
       "PD_117_R11_S05#  DDB_SD_1  HMP3071_C-lim            WT_batch   NaN   \n",
       "PD_117_R12_S05#  DDB_SD_1  HMP3071_C-lim            WT_batch   NaN   \n",
       "\n",
       "                              full_name  \n",
       "IC1                   DDB_SD_1:WT_batch  \n",
       "IC2                   DDB_SD_1:WT_batch  \n",
       "PD_117_R10_S05#     DDB_SD_1:WT_C-starv  \n",
       "PD_117_R11_S05#  DDB_SD_1:HMP3071_C-lim  \n",
       "PD_117_R12_S05#  DDB_SD_1:HMP3071_C-lim  "
      ]
     },
     "execution_count": 27,
     "metadata": {},
     "output_type": "execute_result"
    }
   ],
   "source": [
    "DF_metadata_passed_step4 = DF_metadata_passed_step4[DF_metadata_passed_step4.full_name.isin(keep_samples)]\n",
    "print('New number of samples with curated metadata:',DF_metadata_passed_step4.shape[0])\n",
    "DF_metadata_passed_step4.head()"
   ]
  },
  {
   "cell_type": "markdown",
   "metadata": {},
   "source": [
    "### Save this information to the full metadata dataframe"
   ]
  },
  {
   "cell_type": "code",
   "execution_count": 28,
   "metadata": {},
   "outputs": [],
   "source": [
    "DF_metadata_all['passed_curation'] = DF_metadata_all.index.isin(DF_metadata_passed_step4.index)"
   ]
  },
  {
   "cell_type": "markdown",
   "metadata": {},
   "source": [
    "## Check correlations between replicates"
   ]
  },
  {
   "cell_type": "markdown",
   "metadata": {},
   "source": [
    "### Remove failed data from log_tpm files"
   ]
  },
  {
   "cell_type": "code",
   "execution_count": 29,
   "metadata": {},
   "outputs": [],
   "source": [
    "DF_log_tpm = DF_log_tpm[DF_metadata_passed_step4.index]"
   ]
  },
  {
   "cell_type": "markdown",
   "metadata": {},
   "source": [
    "### Compute Pearson R Score"
   ]
  },
  {
   "cell_type": "markdown",
   "metadata": {},
   "source": [
    "Biological replicates should have a Pearson R correlation above 0.95. For samples with more than 2 replicates, the replicates must have R >= 0.95 with at least one other replicate or it will be dropped. The correlation threshold can be changed below:"
   ]
  },
  {
   "cell_type": "code",
   "execution_count": 30,
   "metadata": {},
   "outputs": [],
   "source": [
    "rcutoff = 0.95"
   ]
  },
  {
   "cell_type": "markdown",
   "metadata": {},
   "source": [
    "The following code computes correlations between all samples and collects correlations between replicates and non-replicates."
   ]
  },
  {
   "cell_type": "code",
   "execution_count": 32,
   "metadata": {},
   "outputs": [
    {
     "data": {
      "application/vnd.jupyter.widget-view+json": {
       "model_id": "7a29161fa4f044d083ecec34f2345016",
       "version_major": 2,
       "version_minor": 0
      },
      "text/plain": [
       "  0%|          | 0/1225.0 [00:00<?, ?it/s]"
      ]
     },
     "metadata": {},
     "output_type": "display_data"
    }
   ],
   "source": [
    "rep_corrs = {}\n",
    "rand_corrs = {}\n",
    "\n",
    "num_comparisons = len(DF_metadata_passed_step4)*(len(DF_metadata_passed_step4)-1)/2\n",
    "\n",
    "for exp1,exp2 in tqdm(itertools.combinations(DF_metadata_passed_step4.index,2),total=num_comparisons):\n",
    "    if DF_metadata_passed_step4.loc[exp1,'full_name'] == DF_metadata_passed_step4.loc[exp2,'full_name']:\n",
    "        rep_corrs[(exp1,exp2)] = stats.pearsonr(DF_log_tpm[exp1],DF_log_tpm[exp2])[0]\n",
    "    else:\n",
    "        rand_corrs[(exp1,exp2)] = stats.pearsonr(DF_log_tpm[exp1],DF_log_tpm[exp2])[0]"
   ]
  },
  {
   "cell_type": "markdown",
   "metadata": {},
   "source": [
    "Correlations can be plotted on a histogram"
   ]
  },
  {
   "cell_type": "code",
   "execution_count": 33,
   "metadata": {},
   "outputs": [
    {
     "name": "stdout",
     "output_type": "stream",
     "text": [
      "Median Pearson R between replicates: 0.99\n"
     ]
    },
    {
     "data": {
      "image/png": "[encoded data removed]",
      "text/plain": [
       "<Figure size 500x500 with 2 Axes>"
      ]
     },
     "metadata": {},
     "output_type": "display_data"
    }
   ],
   "source": [
    "fig,ax = plt.subplots(figsize=(5,5))\n",
    "ax2 = ax.twinx()\n",
    "ax2.hist(rep_corrs.values(),bins=50,range=(0.2,1),alpha=0.8,color='green',linewidth=0)\n",
    "ax.hist(rand_corrs.values(),bins=50,range=(0.2,1),alpha=0.8,color='blue',linewidth=0)\n",
    "ax.set_title('Pearson R correlation between experiments',fontsize=14)\n",
    "ax.set_xlabel('Pearson R correlation',fontsize=14)\n",
    "ax.set_ylabel('Different Conditions',fontsize=14)\n",
    "ax2.set_ylabel('Known Replicates',fontsize=14)\n",
    "\n",
    "med_corr = np.median([v for k,v in rep_corrs.items()])\n",
    "print('Median Pearson R between replicates: {:.2f}'.format(med_corr))"
   ]
  },
  {
   "cell_type": "markdown",
   "metadata": {},
   "source": [
    "Remove samples without any high-correlation replicates"
   ]
  },
  {
   "cell_type": "code",
   "execution_count": 34,
   "metadata": {},
   "outputs": [],
   "source": [
    "dissimilar = []\n",
    "for idx, grp in DF_metadata_passed_step4.groupby('full_name'):\n",
    "    ident = np.identity(len(grp))\n",
    "    corrs = (DF_log_tpm[grp.index].corr() - ident).max()\n",
    "    dissimilar.extend(corrs[corrs<rcutoff].index)\n",
    "\n",
    "# Save this information in both the original metadata dataframe and the new metadata dataframe\n",
    "DF_metadata_all['passed_replicate_correlations'] = ~DF_metadata_all.index.isin(dissimilar)\n",
    "DF_metadata_passed_step4['passed_replicate_correlations'] = ~DF_metadata_passed_step4.index.isin(dissimilar)"
   ]
  },
  {
   "cell_type": "code",
   "execution_count": 35,
   "metadata": {},
   "outputs": [
    {
     "data": {
      "text/plain": [
       "['PD_123_R15_S05#']"
      ]
     },
     "execution_count": 35,
     "metadata": {},
     "output_type": "execute_result"
    }
   ],
   "source": [
    "dissimilar"
   ]
  },
  {
   "cell_type": "code",
   "execution_count": 36,
   "metadata": {},
   "outputs": [
    {
     "name": "stdout",
     "output_type": "stream",
     "text": [
      "# Samples that passed replicate correlations: 49\n"
     ]
    }
   ],
   "source": [
    "DF_metadata_final = DF_metadata_passed_step4[DF_metadata_passed_step4['passed_replicate_correlations']]\n",
    "print('# Samples that passed replicate correlations:',len(DF_metadata_final))"
   ]
  },
  {
   "cell_type": "markdown",
   "metadata": {},
   "source": [
    "## Check that reference conditions still exist\n",
    "If a reference condition was removed due to poor replicate correlations, a new reference condition needs to be defined.\n",
    "\n",
    "Again, any samples that fail these checks will be printed below."
   ]
  },
  {
   "cell_type": "code",
   "execution_count": 37,
   "metadata": {},
   "outputs": [],
   "source": [
    "project_exprs = []\n",
    "for name,group in DF_metadata_final.groupby('project'):\n",
    "    \n",
    "    # Get reference condition\n",
    "    ref_cond = group.reference_condition.iloc[0]\n",
    "    \n",
    "    # Ensure the reference condition is still in the project\n",
    "    if ref_cond not in group.condition.tolist():\n",
    "        print('Reference condition missing from:', name)\n",
    "    \n",
    "    # Check that each project has at least two conditions (a reference and at least one test condition)\n",
    "    if len(group.condition.unique()) <= 1:\n",
    "        print('Only one condition in:', name)"
   ]
  },
  {
   "cell_type": "markdown",
   "metadata": {},
   "source": [
    "If necessary, choose a new condition for failed projects and re-run notebook."
   ]
  },
  {
   "cell_type": "markdown",
   "metadata": {},
   "source": [
    "## Normalize dataset to reference conditions"
   ]
  },
  {
   "cell_type": "code",
   "execution_count": 20,
   "metadata": {},
   "outputs": [],
   "source": [
    "DF_log_tpm_final = DF_log_tpm[DF_metadata_final.index]"
   ]
  },
  {
   "cell_type": "code",
   "execution_count": 21,
   "metadata": {},
   "outputs": [],
   "source": [
    "project_exprs = []\n",
    "for name,group in DF_metadata_final.groupby('project'):\n",
    "    \n",
    "    # Get reference condition\n",
    "    ref_cond = group.reference_condition.iloc[0]\n",
    "    \n",
    "    # Get reference condition sample ids\n",
    "    ref_samples = group[group.condition == ref_cond].index\n",
    "    \n",
    "    # Get reference condition expression\n",
    "    ref_expr = DF_log_tpm_final[ref_samples].mean(axis=1)\n",
    "    \n",
    "    # Subtract reference expression from project\n",
    "    project_exprs.append(DF_log_tpm_final[group.index].sub(ref_expr,axis=0))\n",
    "\n",
    "DF_log_tpm_norm = pd.concat(project_exprs,axis=1)"
   ]
  },
  {
   "cell_type": "markdown",
   "metadata": {},
   "source": [
    "## Save final datasets"
   ]
  },
  {
   "cell_type": "code",
   "execution_count": 23,
   "metadata": {},
   "outputs": [],
   "source": [
    "logTPM_qc_file = path.join('..','data','processed_data','log_tpm.csv')\n",
    "logTPM_norm_file = path.join('..','data','processed_data','log_tpm_norm.csv')\n",
    "final_metadata_file = path.join('..','data','processed_data','metadata.tsv')\n",
    "final_metadata_all_file = path.join('..','data','interim','metadata_qc_part2_all.tsv')\n",
    "\n",
    "DF_log_tpm_final.to_csv(logTPM_qc_file)\n",
    "DF_log_tpm_norm.to_csv(logTPM_norm_file)\n",
    "DF_metadata_final.to_csv(final_metadata_file, sep='\\t')\n",
    "DF_metadata_all.to_csv(final_metadata_all_file, sep='\\t')"
   ]
  },
  {
   "cell_type": "code",
   "execution_count": null,
   "metadata": {},
   "outputs": [],
   "source": []
  }
 ],
 "metadata": {
  "kernelspec": {
   "display_name": "Python 3 (ipykernel)",
   "language": "python",
   "name": "python3"
  },
  "language_info": {
   "codemirror_mode": {
    "name": "ipython",
    "version": 3
   },
   "file_extension": ".py",
   "mimetype": "text/x-python",
   "name": "python",
   "nbconvert_exporter": "python",
   "pygments_lexer": "ipython3",
   "version": "3.9.7"
  },
  "toc": {
   "base_numbering": 1,
   "nav_menu": {},
   "number_sections": true,
   "sideBar": true,
   "skip_h1_title": false,
   "title_cell": "Table of Contents",
   "title_sidebar": "Contents",
   "toc_cell": true,
   "toc_position": {},
   "toc_section_display": true,
   "toc_window_display": false
  }
 },
 "nbformat": 4,
 "nbformat_minor": 4
}
